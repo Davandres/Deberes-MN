{
 "cells": [
  {
   "cell_type": "markdown",
   "id": "ca2d5fd4-b497-4e12-9a87-b6cf1e0fb80a",
   "metadata": {},
   "source": [
    "#                              Métodos Numericos\n",
    "### David Guachamín  \n",
    "### Gr1CC"
   ]
  },
  {
   "cell_type": "markdown",
   "id": "1a41428e-0b31-4e2f-982c-5f584e2968cb",
   "metadata": {},
   "source": [
    "# Deber 7: Splines cúbicos"
   ]
  },
  {
   "cell_type": "markdown",
   "id": "15684192-a2d4-4d83-936a-6c2ae5114098",
   "metadata": {},
   "source": [
    "## 3) Diríjase al pseudocódigo del spline cúbico con frontera natural provisto en clase, en base a ese pseudocódigo complete la siguiente función:"
   ]
  },
  {
   "cell_type": "code",
   "execution_count": 12,
   "id": "43a5faf5-a1f8-4061-88ac-d7a09bd58152",
   "metadata": {},
   "outputs": [],
   "source": [
    "import sympy as sym\n",
    "from IPython.display import display\n",
    "\n",
    "def cubic_spline(xs: list[float], ys: list[float]) -> list[sym.Symbol]:\n",
    "    \"\"\"\n",
    "    Cubic spline interpolation ``S``. Every two points are interpolated by a cubic polynomial\n",
    "    ``S_j`` of the form ``S_j(x) = a_j + b_j(x - x_j) + c_j(x - x_j)^2 + d_j(x - x_j)^3.``\n",
    "\n",
    "    xs must be different but not necessarily ordered nor equally spaced.\n",
    "\n",
    "    ## Parameters\n",
    "    - xs, ys: points to be interpolated\n",
    "\n",
    "    ## Return\n",
    "    - List of symbolic expressions for the cubic spline interpolation.\n",
    "    \"\"\"\n",
    "\n",
    "    points = sorted(zip(xs, ys), key=lambda x: x[0])  # sort points by x\n",
    "\n",
    "    xs = [x for x, _ in points]\n",
    "    ys = [y for _, y in points]\n",
    "\n",
    "    n = len(points) - 1  # number of splines\n",
    "\n",
    "    h = [xs[i + 1] - xs[i] for i in range(n)]  # distances between contiguous xs\n",
    "\n",
    "    # Alpha calculation\n",
    "    alpha = [0] * (n + 1)  # Initialize alpha with zeros\n",
    "    for i in range(1, n):\n",
    "        alpha[i] = 3 / h[i] * (ys[i + 1] - ys[i]) - 3 / h[i - 1] * (ys[i] - ys[i - 1])\n",
    "\n",
    "    # Initialize l, u, z\n",
    "    l = [1]\n",
    "    u = [0]\n",
    "    z = [0]\n",
    "\n",
    "    # Forward substitution\n",
    "    for i in range(1, n):\n",
    "        l.append(2 * (xs[i + 1] - xs[i - 1]) - h[i - 1] * u[i - 1])\n",
    "        u.append(h[i] / l[i])\n",
    "        z.append((alpha[i] - h[i - 1] * z[i - 1]) / l[i])\n",
    "\n",
    "    l.append(1)\n",
    "    z.append(0)\n",
    "    c = [0] * (n + 1)\n",
    "\n",
    "    # Back substitution and spline coefficients\n",
    "    x = sym.Symbol(\"x\")\n",
    "    splines = []\n",
    "    b = [0] * n\n",
    "    d = [0] * n\n",
    "    a = [0] * n\n",
    "\n",
    "    for j in range(n - 1, -1, -1):\n",
    "        c[j] = z[j] - u[j] * c[j + 1]\n",
    "        b[j] = (ys[j + 1] - ys[j]) / h[j] - h[j] * (c[j + 1] + 2 * c[j]) / 3\n",
    "        d[j] = (c[j + 1] - c[j]) / (3 * h[j])\n",
    "        a[j] = ys[j]\n",
    "        # Spline expression\n",
    "        S = a[j] + b[j] * (x - xs[j]) + c[j] * (x - xs[j])**2 + d[j] * (x - xs[j])**3\n",
    "        splines.append(S)\n",
    "\n",
    "    splines.reverse()\n",
    "    return splines\n"
   ]
  },
  {
   "cell_type": "code",
   "execution_count": 14,
   "id": "b3c84ba3-ab65-4bf3-820d-ff99da5de5c2",
   "metadata": {},
   "outputs": [
    {
     "data": {
      "text/latex": [
       "$\\displaystyle 1.5 x^{3} - 0.5 x - 5$"
      ],
      "text/plain": [
       "1.5*x**3 - 0.5*x - 5"
      ]
     },
     "metadata": {},
     "output_type": "display_data"
    },
    {
     "data": {
      "text/latex": [
       "$\\displaystyle 4.0 x - 1.5 \\left(x - 1\\right)^{3} + 4.5 \\left(x - 1\\right)^{2} - 8.0$"
      ],
      "text/plain": [
       "4.0*x - 1.5*(x - 1)**3 + 4.5*(x - 1)**2 - 8.0"
      ]
     },
     "metadata": {},
     "output_type": "display_data"
    },
    {
     "name": "stdout",
     "output_type": "stream",
     "text": [
      "______\n"
     ]
    },
    {
     "data": {
      "text/latex": [
       "$\\displaystyle 1.5 x^{3} - 0.5 x - 5$"
      ],
      "text/plain": [
       "1.5*x**3 - 0.5*x - 5"
      ]
     },
     "metadata": {},
     "output_type": "display_data"
    },
    {
     "data": {
      "text/latex": [
       "$\\displaystyle - 1.5 x^{3} + 9.0 x^{2} - 9.5 x - 2.0$"
      ],
      "text/plain": [
       "-1.5*x**3 + 9.0*x**2 - 9.5*x - 2.0"
      ]
     },
     "metadata": {},
     "output_type": "display_data"
    }
   ],
   "source": [
    "xs = [0, 1, 2]\n",
    "ys = [-5, -4, 3]\n",
    "\n",
    "splines = cubic_spline(xs=xs, ys=ys)\n",
    "_ = [display(s) for s in splines]\n",
    "print(\"______\")\n",
    "_ = [display(s.expand()) for s in splines]"
   ]
  },
  {
   "cell_type": "markdown",
   "id": "31046db2-b7f4-464a-b423-c28718087e00",
   "metadata": {},
   "source": [
    "## 4) Usando la función anterior, encuentre el spline cúbico para:\n",
    "## xs = [1, 2, 3]\n",
    "## ys = [2, 3, 5]"
   ]
  },
  {
   "cell_type": "code",
   "execution_count": 25,
   "id": "b5a6ad76-53c6-45cc-8e3c-5c807b248946",
   "metadata": {},
   "outputs": [],
   "source": [
    "import sympy as sym\n",
    "from IPython.display import display\n",
    "\n",
    "def cubic_spline(xs: list[float], ys: list[float]) -> list[sym.Symbol]:\n",
    "    \"\"\"\n",
    "    Cubic spline interpolation ``S``. Every two points are interpolated by a cubic polynomial\n",
    "    ``S_j`` of the form ``S_j(x) = a_j + b_j(x - x_j) + c_j(x - x_j)^2 + d_j(x - x_j)^3.``\n",
    "\n",
    "    xs must be different but not necessarily ordered nor equally spaced.\n",
    "\n",
    "    ## Parameters\n",
    "    - xs, ys: points to be interpolated\n",
    "\n",
    "    ## Return\n",
    "    - List of symbolic expressions for the cubic spline interpolation.\n",
    "    \"\"\"\n",
    "\n",
    "    points = sorted(zip(xs, ys), key=lambda x: x[0])  # sort points by x\n",
    "\n",
    "    xs = [x for x, _ in points]\n",
    "    ys = [y for _, y in points]\n",
    "\n",
    "    n = len(points) - 1  # number of splines\n",
    "\n",
    "    h = [xs[i + 1] - xs[i] for i in range(n)]  # distances between contiguous xs\n",
    "\n",
    "    # Alpha calculation\n",
    "    alpha = [0] * (n + 1)  # Initialize alpha with zeros\n",
    "    for i in range(1, n):\n",
    "        alpha[i] = 3 / h[i] * (ys[i + 1] - ys[i]) - 3 / h[i - 1] * (ys[i] - ys[i - 1])\n",
    "\n",
    "    # Initialize l, u, z\n",
    "    l = [1]\n",
    "    u = [0]\n",
    "    z = [0]\n",
    "\n",
    "    # Forward substitution\n",
    "    for i in range(1, n):\n",
    "        l.append(2 * (xs[i + 1] - xs[i - 1]) - h[i - 1] * u[i - 1])\n",
    "        u.append(h[i] / l[i])\n",
    "        z.append((alpha[i] - h[i - 1] * z[i - 1]) / l[i])\n",
    "\n",
    "    l.append(1)\n",
    "    z.append(0)\n",
    "    c = [0] * (n + 1)\n",
    "\n",
    "    # Back substitution and spline coefficients\n",
    "    x = sym.Symbol(\"x\")\n",
    "    splines = []\n",
    "    b = [0] * n\n",
    "    d = [0] * n\n",
    "    a = [0] * n\n",
    "\n",
    "    for j in range(n - 1, -1, -1):\n",
    "        c[j] = z[j] - u[j] * c[j + 1]\n",
    "        b[j] = (ys[j + 1] - ys[j]) / h[j] - h[j] * (c[j + 1] + 2 * c[j]) / 3\n",
    "        d[j] = (c[j + 1] - c[j]) / (3 * h[j])\n",
    "        a[j] = ys[j]\n",
    "        # Spline expression\n",
    "        S = a[j] + b[j] * (x - xs[j]) + c[j] * (x - xs[j])**2 + d[j] * (x - xs[j])**3\n",
    "        splines.append(S)\n",
    "\n",
    "    splines.reverse()\n",
    "    return splines"
   ]
  },
  {
   "cell_type": "code",
   "execution_count": 20,
   "id": "0cab4b01-f676-47c2-be6b-d73e778cc42e",
   "metadata": {},
   "outputs": [
    {
     "data": {
      "text/latex": [
       "$\\displaystyle 0.75 x + 0.25 \\left(x - 1\\right)^{3} + 1.25$"
      ],
      "text/plain": [
       "0.75*x + 0.25*(x - 1)**3 + 1.25"
      ]
     },
     "metadata": {},
     "output_type": "display_data"
    },
    {
     "data": {
      "text/latex": [
       "$\\displaystyle 1.5 x - 0.25 \\left(x - 2\\right)^{3} + 0.75 \\left(x - 2\\right)^{2}$"
      ],
      "text/plain": [
       "1.5*x - 0.25*(x - 2)**3 + 0.75*(x - 2)**2"
      ]
     },
     "metadata": {},
     "output_type": "display_data"
    },
    {
     "name": "stdout",
     "output_type": "stream",
     "text": [
      "______\n"
     ]
    },
    {
     "data": {
      "text/latex": [
       "$\\displaystyle 0.25 x^{3} - 0.75 x^{2} + 1.5 x + 1.0$"
      ],
      "text/plain": [
       "0.25*x**3 - 0.75*x**2 + 1.5*x + 1.0"
      ]
     },
     "metadata": {},
     "output_type": "display_data"
    },
    {
     "data": {
      "text/latex": [
       "$\\displaystyle - 0.25 x^{3} + 2.25 x^{2} - 4.5 x + 5.0$"
      ],
      "text/plain": [
       "-0.25*x**3 + 2.25*x**2 - 4.5*x + 5.0"
      ]
     },
     "metadata": {},
     "output_type": "display_data"
    }
   ],
   "source": [
    "xs = [1, 2, 3]\n",
    "ys = [2, 3, 5]\n",
    "\n",
    "splines = cubic_spline(xs=xs, ys=ys)\n",
    "_ = [display(s) for s in splines]\n",
    "print(\"______\")\n",
    "_ = [display(s.expand()) for s in splines]"
   ]
  },
  {
   "cell_type": "markdown",
   "id": "d63f4ff8-d27f-4461-87ff-1adb1cb55e1e",
   "metadata": {},
   "source": [
    "## 5) 5) Usando la función anterior, encuentre el spline cúbico para:\n",
    "## xs = [0, 1, 2, 3]\n",
    "## ys = [-1 ,1, 5, 2]"
   ]
  },
  {
   "cell_type": "code",
   "execution_count": 27,
   "id": "41d68821-53a0-4c1a-8a71-9f0c52b8f090",
   "metadata": {},
   "outputs": [],
   "source": [
    "import sympy as sym\n",
    "from IPython.display import display\n",
    "\n",
    "def cubic_spline(xs: list[float], ys: list[float]) -> list[sym.Symbol]:\n",
    "    \"\"\"\n",
    "    Cubic spline interpolation ``S``. Every two points are interpolated by a cubic polynomial\n",
    "    ``S_j`` of the form ``S_j(x) = a_j + b_j(x - x_j) + c_j(x - x_j)^2 + d_j(x - x_j)^3.``\n",
    "\n",
    "    xs must be different but not necessarily ordered nor equally spaced.\n",
    "\n",
    "    ## Parameters\n",
    "    - xs, ys: points to be interpolated\n",
    "\n",
    "    ## Return\n",
    "    - List of symbolic expressions for the cubic spline interpolation.\n",
    "    \"\"\"\n",
    "\n",
    "    points = sorted(zip(xs, ys), key=lambda x: x[0])  # sort points by x\n",
    "\n",
    "    xs = [x for x, _ in points]\n",
    "    ys = [y for _, y in points]\n",
    "\n",
    "    n = len(points) - 1  # number of splines\n",
    "\n",
    "    h = [xs[i + 1] - xs[i] for i in range(n)]  # distances between contiguous xs\n",
    "\n",
    "    # Alpha calculation\n",
    "    alpha = [0] * (n + 1)  # Initialize alpha with zeros\n",
    "    for i in range(1, n):\n",
    "        alpha[i] = 3 / h[i] * (ys[i + 1] - ys[i]) - 3 / h[i - 1] * (ys[i] - ys[i - 1])\n",
    "\n",
    "    # Initialize l, u, z\n",
    "    l = [1]\n",
    "    u = [0]\n",
    "    z = [0]\n",
    "\n",
    "    # Forward substitution\n",
    "    for i in range(1, n):\n",
    "        l.append(2 * (xs[i + 1] - xs[i - 1]) - h[i - 1] * u[i - 1])\n",
    "        u.append(h[i] / l[i])\n",
    "        z.append((alpha[i] - h[i - 1] * z[i - 1]) / l[i])\n",
    "\n",
    "    l.append(1)\n",
    "    z.append(0)\n",
    "    c = [0] * (n + 1)\n",
    "\n",
    "    # Back substitution and spline coefficients\n",
    "    x = sym.Symbol(\"x\")\n",
    "    splines = []\n",
    "    b = [0] * n\n",
    "    d = [0] * n\n",
    "    a = [0] * n\n",
    "\n",
    "    for j in range(n - 1, -1, -1):\n",
    "        c[j] = z[j] - u[j] * c[j + 1]\n",
    "        b[j] = (ys[j + 1] - ys[j]) / h[j] - h[j] * (c[j + 1] + 2 * c[j]) / 3\n",
    "        d[j] = (c[j + 1] - c[j]) / (3 * h[j])\n",
    "        a[j] = ys[j]\n",
    "        # Spline expression\n",
    "        S = a[j] + b[j] * (x - xs[j]) + c[j] * (x - xs[j])**2 + d[j] * (x - xs[j])**3\n",
    "        splines.append(S)\n",
    "\n",
    "    splines.reverse()\n",
    "    return splines"
   ]
  },
  {
   "cell_type": "code",
   "execution_count": 23,
   "id": "c9fdc5af-3a02-41f3-9d44-04ffefa309c4",
   "metadata": {},
   "outputs": [
    {
     "data": {
      "text/latex": [
       "$\\displaystyle 1.0 x^{3} + 1.0 x - 1$"
      ],
      "text/plain": [
       "1.0*x**3 + 1.0*x - 1"
      ]
     },
     "metadata": {},
     "output_type": "display_data"
    },
    {
     "data": {
      "text/latex": [
       "$\\displaystyle 4.0 x - 3.0 \\left(x - 1\\right)^{3} + 3.0 \\left(x - 1\\right)^{2} - 3.0$"
      ],
      "text/plain": [
       "4.0*x - 3.0*(x - 1)**3 + 3.0*(x - 1)**2 - 3.0"
      ]
     },
     "metadata": {},
     "output_type": "display_data"
    },
    {
     "data": {
      "text/latex": [
       "$\\displaystyle 1.0 x + 2.0 \\left(x - 2\\right)^{3} - 6.0 \\left(x - 2\\right)^{2} + 3.0$"
      ],
      "text/plain": [
       "1.0*x + 2.0*(x - 2)**3 - 6.0*(x - 2)**2 + 3.0"
      ]
     },
     "metadata": {},
     "output_type": "display_data"
    },
    {
     "name": "stdout",
     "output_type": "stream",
     "text": [
      "______\n"
     ]
    },
    {
     "data": {
      "text/latex": [
       "$\\displaystyle 1.0 x^{3} + 1.0 x - 1$"
      ],
      "text/plain": [
       "1.0*x**3 + 1.0*x - 1"
      ]
     },
     "metadata": {},
     "output_type": "display_data"
    },
    {
     "data": {
      "text/latex": [
       "$\\displaystyle - 3.0 x^{3} + 12.0 x^{2} - 11.0 x + 3.0$"
      ],
      "text/plain": [
       "-3.0*x**3 + 12.0*x**2 - 11.0*x + 3.0"
      ]
     },
     "metadata": {},
     "output_type": "display_data"
    },
    {
     "data": {
      "text/latex": [
       "$\\displaystyle 2.0 x^{3} - 18.0 x^{2} + 49.0 x - 37.0$"
      ],
      "text/plain": [
       "2.0*x**3 - 18.0*x**2 + 49.0*x - 37.0"
      ]
     },
     "metadata": {},
     "output_type": "display_data"
    }
   ],
   "source": [
    "xs = [0, 1, 2,3]\n",
    "ys = [-1, 1, 5,2]\n",
    "\n",
    "splines = cubic_spline(xs=xs, ys=ys)\n",
    "_ = [display(s) for s in splines]\n",
    "print(\"______\")\n",
    "_ = [display(s.expand()) for s in splines]"
   ]
  },
  {
   "cell_type": "code",
   "execution_count": null,
   "id": "699d58a3-9f69-4d65-9b07-066c7a2b0940",
   "metadata": {},
   "outputs": [],
   "source": []
  }
 ],
 "metadata": {
  "kernelspec": {
   "display_name": "Python 3 (ipykernel)",
   "language": "python",
   "name": "python3"
  },
  "language_info": {
   "codemirror_mode": {
    "name": "ipython",
    "version": 3
   },
   "file_extension": ".py",
   "mimetype": "text/x-python",
   "name": "python",
   "nbconvert_exporter": "python",
   "pygments_lexer": "ipython3",
   "version": "3.12.4"
  }
 },
 "nbformat": 4,
 "nbformat_minor": 5
}
