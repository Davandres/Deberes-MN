{
 "cells": [
  {
   "cell_type": "markdown",
   "metadata": {},
   "source": [
    "# **METODOS NUMERICOS**\n",
    "## TAREA EXTRA ATAN2\n",
    " _David Guachamín_ "
   ]
  },
  {
   "attachments": {
    "image.png": {
     "image/png": "[encoded data removed]"
    }
   },
   "cell_type": "markdown",
   "metadata": {},
   "source": [
    "### **1) Investigue y resuma la función atan2.**\n",
    "![image.png](attachment:image.png)\n",
    "\n",
    "La función ATAN2 calcula el arco tangente, o tangente inversa, de un punto definido por las coordenadas (x,y). Devuelve el ángulo entre el eje X y la línea que conecta el origen (0,0) con el punto (x,y), expresado en radianes dentro del rango −π a π (excluyendo −π). Un valor positivo indica un ángulo en sentido antihorario desde el eje X, mientras que un valor negativo lo hace en sentido horario. La fórmula es similar a ATAN(y/x), pero ATAN2 admite casos donde x=0, lo que lo hace más robusto para determinar el cuadrante.\n",
    "En Python, la función equivalente es math.atan2(y, x). Se usa para calcular ángulos en coordenadas polares y tiene las mismas propiedades que la función descrita: utiliza los signos de x e y para identificar correctamente el cuadrante del ángulo resultante. Esto la hace ideal para aplicaciones en gráficos, simulaciones y cálculos de dirección."
   ]
  },
  {
   "cell_type": "markdown",
   "metadata": {},
   "source": [
    "### **2) ¿Por qué se recomienda usar la función atan2?**\n",
    "\n",
    "La función atan2 se recomienda porque calcula ángulos de manera precisa y robusta al considerar los signos de las coordenadas x e y, lo que permite identificar correctamente el cuadrante del ángulo resultante. A diferencia de atan, que solo usa y/x y no puede manejar casos donde x=0, atan2 maneja estos escenarios sin errores, devolviendo ángulos en el rango −π a π. Esto la hace ideal para aplicaciones en geometría, gráficos, robótica y cálculos con coordenadas polares."
   ]
  },
  {
   "cell_type": "markdown",
   "metadata": {},
   "source": [
    "### **3) Diferencias entre función atan y atan2**\n",
    "\n",
    "La principal diferencia entre atan y atan2 en Python radica en el número de argumentos y su manejo de los cuadrantes. La función atan toma un solo argumento y devuelve el arco tangente de una razón, pero no puede determinar en qué cuadrante se encuentra el ángulo resultante. Por otro lado, atan2 toma dos argumentos, típicamente las coordenadas (y, x), lo que le permite calcular el ángulo de manera más precisa considerando los signos de ambas entradas para identificar el cuadrante correcto. Como resultado, atan2 siempre devuelve un valor dentro del rango de −π a π. Esta capacidad la hace especialmente útil en contextos como gráficos y cálculos de dirección en coordenadas polares."
   ]
  },
  {
   "cell_type": "markdown",
   "metadata": {},
   "source": [
    "### Ejemplos:"
   ]
  },
  {
   "cell_type": "markdown",
   "metadata": {},
   "source": [
    "* **Conversión de coordenadas cartesianas a polares**"
   ]
  },
  {
   "cell_type": "code",
   "execution_count": 6,
   "metadata": {},
   "outputs": [
    {
     "name": "stdout",
     "output_type": "stream",
     "text": [
      "Coordenadas polares: r = 5.0, θ = 53.13010235415598°\n"
     ]
    }
   ],
   "source": [
    "import math\n",
    "\n",
    "x, y = 3, 4  # Coordenadas cartesianas\n",
    "r = math.sqrt(x**2 + y**2)  # Distancia al origen\n",
    "theta = math.atan2(y, x)   # Ángulo en radianes\n",
    "\n",
    "print(f\"Coordenadas polares: r = {r}, θ = {math.degrees(theta)}°\")\n"
   ]
  },
  {
   "cell_type": "markdown",
   "metadata": {},
   "source": [
    "* **Cálculo del ángulo entre dos puntos**"
   ]
  },
  {
   "cell_type": "code",
   "execution_count": 7,
   "metadata": {},
   "outputs": [
    {
     "name": "stdout",
     "output_type": "stream",
     "text": [
      "Ángulo entre los puntos en radianes: 2.356194490192345\n",
      "Ángulo en grados: 135.0°\n"
     ]
    }
   ],
   "source": [
    "import math\n",
    "\n",
    "x1, y1 = 0, 0  # Origen\n",
    "x2, y2 = -5, 5  # Punto\n",
    "angle = math.atan2(y2 - y1, x2 - x1)\n",
    "\n",
    "print(f\"Ángulo entre los puntos en radianes: {angle}\")\n",
    "print(f\"Ángulo en grados: {math.degrees(angle)}°\")\n"
   ]
  },
  {
   "cell_type": "markdown",
   "metadata": {},
   "source": [
    "* **Dirección en un mapa o videojuego**"
   ]
  },
  {
   "cell_type": "code",
   "execution_count": 8,
   "metadata": {},
   "outputs": [
    {
     "name": "stdout",
     "output_type": "stream",
     "text": [
      "Ángulo hacia el objetivo: -26.56505117707799°\n"
     ]
    }
   ],
   "source": [
    "import math\n",
    "\n",
    "player_x, player_y = 10, 10  # Posición del jugador\n",
    "target_x, target_y = 20, 5  # Posición del objetivo\n",
    "\n",
    "angle = math.atan2(target_y - player_y, target_x - player_x)\n",
    "\n",
    "print(f\"Ángulo hacia el objetivo: {math.degrees(angle)}°\")\n"
   ]
  },
  {
   "cell_type": "markdown",
   "metadata": {},
   "source": [
    "* **Control de movimiento en robótica**"
   ]
  },
  {
   "cell_type": "code",
   "execution_count": 9,
   "metadata": {},
   "outputs": [
    {
     "name": "stdout",
     "output_type": "stream",
     "text": [
      "El robot debe moverse en un ángulo de: -45.0°\n"
     ]
    }
   ],
   "source": [
    "import math\n",
    "\n",
    "robot_x, robot_y = 0, 0  # Posición inicial del robot\n",
    "destination_x, destination_y = 4, -4  # Destino\n",
    "\n",
    "angle = math.atan2(destination_y - robot_y, destination_x - robot_x)\n",
    "\n",
    "print(f\"El robot debe moverse en un ángulo de: {math.degrees(angle)}°\")\n"
   ]
  },
  {
   "cell_type": "markdown",
   "metadata": {},
   "source": [
    "* **Colisiones en física de videojuegos**"
   ]
  },
  {
   "cell_type": "code",
   "execution_count": 10,
   "metadata": {},
   "outputs": [
    {
     "name": "stdout",
     "output_type": "stream",
     "text": [
      "Dirección del impulso tras la colisión: 116.56505117707799°\n"
     ]
    }
   ],
   "source": [
    "import math\n",
    "\n",
    "velocity_x, velocity_y = -3, 6  # Componentes de la velocidad tras colisión\n",
    "\n",
    "impact_angle = math.atan2(velocity_y, velocity_x)\n",
    "\n",
    "print(f\"Dirección del impulso tras la colisión: {math.degrees(impact_angle)}°\")\n"
   ]
  }
 ],
 "metadata": {
  "kernelspec": {
   "display_name": "base",
   "language": "python",
   "name": "python3"
  },
  "language_info": {
   "codemirror_mode": {
    "name": "ipython",
    "version": 3
   },
   "file_extension": ".py",
   "mimetype": "text/x-python",
   "name": "python",
   "nbconvert_exporter": "python",
   "pygments_lexer": "ipython3",
   "version": "3.12.4"
  }
 },
 "nbformat": 4,
 "nbformat_minor": 2
}
