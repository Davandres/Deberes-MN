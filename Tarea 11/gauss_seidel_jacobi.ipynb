{
 "cells": [
  {
   "cell_type": "markdown",
   "metadata": {},
   "source": [
    "# Tarea #11: Gauss Seidel y Jacobi"
   ]
  },
  {
   "cell_type": "markdown",
   "metadata": {},
   "source": [
    "**1. Encuentre las primeras dos iteraciones del método de Jacobi para los siguientes sistemas lineales, por\n",
    "medio de 𝐱\n",
    "(𝟎) = 0:**"
   ]
  },
  {
   "cell_type": "code",
   "execution_count": 3,
   "metadata": {},
   "outputs": [],
   "source": [
    "import numpy as np\n",
    "\n",
    "def jacobi(A, b, x0, iterations):\n",
    "    \"\"\"\n",
    "    Método de Jacobi para resolver un sistema Ax = b.\n",
    "\n",
    "    Parámetros:\n",
    "    A -- Matriz de coeficientes\n",
    "    b -- Vector de términos independientes\n",
    "    x0 -- Vector inicial\n",
    "    iterations -- Número de iteraciones\n",
    "\n",
    "    Retorna:\n",
    "    x -- Aproximación después de las iteraciones\n",
    "    \"\"\"\n",
    "    D = np.diag(np.diag(A))  # Matriz diagonal\n",
    "    R = A - D  # Parte restante de A\n",
    "    D_inv = np.linalg.inv(D)  # Inversa de la diagonal\n",
    "\n",
    "    x = x0.copy()\n",
    "    for i in range(iterations):\n",
    "        x = np.dot(D_inv, b - np.dot(R, x))\n",
    "        print(f\"Iteración {i+1}: {x}\")\n",
    "\n",
    "    return x"
   ]
  },
  {
   "cell_type": "code",
   "execution_count": 4,
   "metadata": {},
   "outputs": [
    {
     "name": "stdout",
     "output_type": "stream",
     "text": [
      "Sistema a):\n",
      "Iteración 1: [0.33333333 0.         0.57142857]\n",
      "Iteración 2: [ 0.14285714 -0.35714286  0.42857143]\n"
     ]
    },
    {
     "data": {
      "text/plain": [
       "array([ 0.14285714, -0.35714286,  0.42857143])"
      ]
     },
     "execution_count": 4,
     "metadata": {},
     "output_type": "execute_result"
    }
   ],
   "source": [
    "# Sistema a)\n",
    "A = np.array([[3, -1, 1], [3, 6, 2], [3, 3, 7]])\n",
    "b = np.array([1, 0, 4])\n",
    "x0 = np.zeros(len(b))  # x(0) = 0\n",
    "iterations = 2  # Primeras dos iteraciones\n",
    "\n",
    "print(\"Sistema a):\")\n",
    "jacobi(A, b, x0, iterations)\n"
   ]
  },
  {
   "cell_type": "code",
   "execution_count": 5,
   "metadata": {},
   "outputs": [
    {
     "name": "stdout",
     "output_type": "stream",
     "text": [
      "Sistema b):\n",
      "Iteración 1: [0.9 0.7 0.6]\n",
      "Iteración 2: [0.97 0.91 0.74]\n"
     ]
    },
    {
     "data": {
      "text/plain": [
       "array([0.97, 0.91, 0.74])"
      ]
     },
     "execution_count": 5,
     "metadata": {},
     "output_type": "execute_result"
    }
   ],
   "source": [
    "# Sistema b)\n",
    "A = np.array([[10, -1, 0], [-1, 10, -2], [0, -2, 10]])\n",
    "b = np.array([9, 7, 6])\n",
    "x0 = np.zeros(len(b))  # x(0) = 0\n",
    "iterations = 2  # Primeras dos iteraciones\n",
    "\n",
    "print(\"Sistema b):\")\n",
    "jacobi(A, b, x0, iterations)"
   ]
  },
  {
   "cell_type": "code",
   "execution_count": 7,
   "metadata": {},
   "outputs": [
    {
     "name": "stdout",
     "output_type": "stream",
     "text": [
      "Sistema c):\n",
      "Iteración 1: [ 0.6    2.5   -1.375  2.2  ]\n",
      "Iteración 2: [-0.65   1.65  -0.4    2.475]\n"
     ]
    },
    {
     "data": {
      "text/plain": [
       "array([-0.65 ,  1.65 , -0.4  ,  2.475])"
      ]
     },
     "execution_count": 7,
     "metadata": {},
     "output_type": "execute_result"
    }
   ],
   "source": [
    "# Sistema c)\n",
    "A = np.array([[10, 5, 0, 0], [5, 10, -4, 0], [0, -4, 8,1], [0, 0, 1, 5]])\n",
    "b = np.array([6, 25, -11, 11])\n",
    "x0 = np.zeros(len(b))  # x(0) = 0\n",
    "iterations = 2  # Primeras dos iteraciones\n",
    "\n",
    "print(\"Sistema c):\")\n",
    "jacobi(A, b, x0, iterations)"
   ]
  },
  {
   "cell_type": "code",
   "execution_count": 10,
   "metadata": {},
   "outputs": [
    {
     "name": "stdout",
     "output_type": "stream",
     "text": [
      "Sistema d):\n",
      "Iteración 1: [ 1.5 -2.   1.2  1.5  1.5]\n",
      "Iteración 2: [ 1.325 -1.6    1.6    1.675  2.425]\n"
     ]
    },
    {
     "data": {
      "text/plain": [
       "array([ 1.325, -1.6  ,  1.6  ,  1.675,  2.425])"
      ]
     },
     "execution_count": 10,
     "metadata": {},
     "output_type": "execute_result"
    }
   ],
   "source": [
    "# Sistema d)\n",
    "A = np.array([[4, 1, 1, 0, 1], [-1, -3, 1, 1, 0], [2, 1, 5,-1,-1], [-1, -1, -1, 4, 0], [0, 2, -1, 1, 4]])\n",
    "b = np.array([6, 6, 6, 6,6])\n",
    "x0 = np.zeros(len(b))  # x(0) = 0\n",
    "iterations = 2  # Primeras dos iteraciones\n",
    "\n",
    "print(\"Sistema d):\")\n",
    "jacobi(A, b, x0, iterations)"
   ]
  },
  {
   "cell_type": "markdown",
   "metadata": {},
   "source": [
    "**2) Repita el ejercicio 1 usando el método de Gauss-Siedel.**"
   ]
  },
  {
   "cell_type": "code",
   "execution_count": 19,
   "metadata": {},
   "outputs": [],
   "source": [
    "import numpy as np\n",
    "\n",
    "def gauss_seidel(A, b, x0, iterations):\n",
    "    \"\"\"\n",
    "    Método de Gauss-Seidel para resolver un sistema Ax = b.\n",
    "\n",
    "    Parámetros:\n",
    "    A -- Matriz de coeficientes\n",
    "    b -- Vector de términos independientes\n",
    "    x0 -- Vector inicial\n",
    "    iterations -- Número de iteraciones\n",
    "\n",
    "    Retorna:\n",
    "    x -- Aproximación después de las iteraciones\n",
    "    \"\"\"\n",
    "    n = len(A)\n",
    "    x = x0.copy()\n",
    "\n",
    "    for k in range(iterations):\n",
    "        x_new = x.copy()\n",
    "        for i in range(n):\n",
    "            sum1 = sum(A[i][j] * x_new[j] for j in range(i))  # Elementos antes de x_i (actualizados)\n",
    "            sum2 = sum(A[i][j] * x[j] for j in range(i + 1, n))  # Elementos después de x_i (sin actualizar)\n",
    "            x_new[i] = (b[i] - sum1 - sum2) / A[i][i]  # Nueva aproximación de x_i\n",
    "\n",
    "        x = x_new\n",
    "        print(f\"Iteración {k+1}: {x}\")\n",
    "\n",
    "    return x\n",
    "\n"
   ]
  },
  {
   "cell_type": "code",
   "execution_count": 20,
   "metadata": {},
   "outputs": [
    {
     "name": "stdout",
     "output_type": "stream",
     "text": [
      "Sistema a) con Gauss-Seidel:\n",
      "Iteración 1: [ 0.33333333 -0.16666667  0.5       ]\n",
      "Iteración 2: [ 0.11111111 -0.22222222  0.61904762]\n"
     ]
    },
    {
     "data": {
      "text/plain": [
       "array([ 0.11111111, -0.22222222,  0.61904762])"
      ]
     },
     "execution_count": 20,
     "metadata": {},
     "output_type": "execute_result"
    }
   ],
   "source": [
    "# Sistema a)\n",
    "A = np.array([[3, -1, 1], [3, 6, 2], [3, 3, 7]])\n",
    "b = np.array([1, 0, 4])\n",
    "x0 = np.zeros(len(b))  # x(0) = 0\n",
    "iterations = 2  # Primeras dos iteraciones\n",
    "\n",
    "print(\"Sistema a) con Gauss-Seidel:\")\n",
    "gauss_seidel(A, b, x0, iterations)\n"
   ]
  },
  {
   "cell_type": "code",
   "execution_count": 22,
   "metadata": {},
   "outputs": [
    {
     "name": "stdout",
     "output_type": "stream",
     "text": [
      "Sistema b) con Gauss-Seidel:\n",
      "Iteración 1: [0.9   0.79  0.758]\n",
      "Iteración 2: [0.979  0.9495 0.7899]\n"
     ]
    },
    {
     "data": {
      "text/plain": [
       "array([0.979 , 0.9495, 0.7899])"
      ]
     },
     "execution_count": 22,
     "metadata": {},
     "output_type": "execute_result"
    }
   ],
   "source": [
    "# Sistema b)\n",
    "A = np.array([[10, -1, 0], [-1, 10, -2], [0, -2, 10]])\n",
    "b = np.array([9, 7, 6])\n",
    "x0 = np.zeros(len(b))  # x(0) = 0\n",
    "iterations = 2  # Primeras dos iteraciones\n",
    "\n",
    "print(\"Sistema b) con Gauss-Seidel:\")\n",
    "gauss_seidel(A, b, x0, iterations)"
   ]
  },
  {
   "cell_type": "code",
   "execution_count": 23,
   "metadata": {},
   "outputs": [
    {
     "name": "stdout",
     "output_type": "stream",
     "text": [
      "Sistema b) con Gauss-Seidel:\n",
      "Iteración 1: [ 0.6    2.2   -0.275  2.255]\n",
      "Iteración 2: [-0.5       2.64     -0.336875  2.267375]\n"
     ]
    },
    {
     "data": {
      "text/plain": [
       "array([-0.5     ,  2.64    , -0.336875,  2.267375])"
      ]
     },
     "execution_count": 23,
     "metadata": {},
     "output_type": "execute_result"
    }
   ],
   "source": [
    "# Sistema c)\n",
    "A = np.array([[10, 5, 0, 0], [5, 10, -4, 0], [0, -4, 8,1], [0, 0, 1, 5]])\n",
    "b = np.array([6, 25, -11, 11])\n",
    "x0 = np.zeros(len(b))  # x(0) = 0\n",
    "iterations = 2  # Primeras dos iteraciones\n",
    "\n",
    "print(\"Sistema b) con Gauss-Seidel:\")\n",
    "gauss_seidel(A, b, x0, iterations)"
   ]
  },
  {
   "cell_type": "code",
   "execution_count": 24,
   "metadata": {},
   "outputs": [
    {
     "name": "stdout",
     "output_type": "stream",
     "text": [
      "Sistema b) con Gauss-Seidel:\n",
      "Iteración 1: [ 1.5     -2.5      1.1      1.525    2.64375]\n",
      "Iteración 2: [ 1.1890625  -1.52135417  1.86239583  1.88252604  2.25564453]\n"
     ]
    },
    {
     "data": {
      "text/plain": [
       "array([ 1.1890625 , -1.52135417,  1.86239583,  1.88252604,  2.25564453])"
      ]
     },
     "execution_count": 24,
     "metadata": {},
     "output_type": "execute_result"
    }
   ],
   "source": [
    "# Sistema d)\n",
    "A = np.array([[4, 1, 1, 0, 1], [-1, -3, 1, 1, 0], [2, 1, 5,-1,-1], [-1, -1, -1, 4, 0], [0, 2, -1, 1, 4]])\n",
    "b = np.array([6, 6, 6, 6,6])\n",
    "x0 = np.zeros(len(b))  # x(0) = 0\n",
    "iterations = 2  # Primeras dos iteraciones\n",
    "\n",
    "print(\"Sistema b) con Gauss-Seidel:\")\n",
    "gauss_seidel(A, b, x0, iterations)"
   ]
  },
  {
   "cell_type": "markdown",
   "metadata": {},
   "source": [
    "**3. Utilice el método de Jacobi para resolver los sistemas lineales en el ejercicio 1, con TOL = 10-3**"
   ]
  },
  {
   "cell_type": "code",
   "execution_count": 12,
   "metadata": {},
   "outputs": [],
   "source": [
    "import numpy as np\n",
    "\n",
    "def jacobi(A, b, x0, tol=1e-3, max_iterations=100):\n",
    "    \"\"\"\n",
    "    Método de Jacobi para resolver un sistema Ax = b con tolerancia.\n",
    "\n",
    "    Parámetros:\n",
    "    A -- Matriz de coeficientes\n",
    "    b -- Vector de términos independientes\n",
    "    x0 -- Vector inicial\n",
    "    tol -- Tolerancia para la convergencia\n",
    "    max_iterations -- Máximo número de iteraciones permitidas\n",
    "\n",
    "    Retorna:\n",
    "    x -- Aproximación de la solución\n",
    "    \"\"\"\n",
    "    D = np.diag(np.diag(A))  # Matriz diagonal\n",
    "    R = A - D  # Parte restante de A\n",
    "    D_inv = np.linalg.inv(D)  # Inversa de la diagonal\n",
    "\n",
    "    x = x0.copy()\n",
    "    for i in range(max_iterations):\n",
    "        x_new = np.dot(D_inv, b - np.dot(R, x))\n",
    "        \n",
    "        # Criterio de parada: norma de la diferencia entre iteraciones\n",
    "        if np.linalg.norm(x_new - x, ord=np.inf) < tol:\n",
    "            print(f\"Convergencia alcanzada en {i+1} iteraciones\")\n",
    "            return x_new\n",
    "        \n",
    "        x = x_new\n",
    "        print(f\"Iteración {i+1}: {x}\")\n",
    "\n",
    "    print(\"Se alcanzó el máximo de iteraciones sin convergencia\")\n",
    "    return x\n",
    "\n",
    "\n"
   ]
  },
  {
   "cell_type": "code",
   "execution_count": 13,
   "metadata": {},
   "outputs": [
    {
     "name": "stdout",
     "output_type": "stream",
     "text": [
      "Sistema a):\n",
      "Iteración 1: [0.33333333 0.         0.57142857]\n",
      "Iteración 2: [ 0.14285714 -0.35714286  0.42857143]\n",
      "Iteración 3: [ 0.07142857 -0.21428571  0.66326531]\n",
      "Iteración 4: [ 0.04081633 -0.25680272  0.63265306]\n",
      "Iteración 5: [ 0.03684807 -0.23129252  0.66399417]\n",
      "Iteración 6: [ 0.03490444 -0.23975543  0.6547619 ]\n",
      "Iteración 7: [ 0.03516089 -0.23570619  0.65922185]\n",
      "Iteración 8: [ 0.03502399 -0.23732106  0.65737656]\n",
      "Convergencia alcanzada en 9 iteraciones\n",
      "Solución aproximada: [ 0.03510079 -0.23663751  0.65812732]\n"
     ]
    }
   ],
   "source": [
    "# Sistema a)\n",
    "A = np.array([[3, -1, 1], [3, 6, 2], [3, 3, 7]])\n",
    "b = np.array([1, 0, 4])\n",
    "x0 = np.zeros(len(b))  # x(0) = 0\n",
    "\n",
    "print(\"Sistema a):\")\n",
    "solucion = jacobi(A, b, x0)\n",
    "print(\"Solución aproximada:\", solucion)"
   ]
  },
  {
   "cell_type": "code",
   "execution_count": 15,
   "metadata": {},
   "outputs": [
    {
     "name": "stdout",
     "output_type": "stream",
     "text": [
      "Sistema b):\n",
      "Iteración 1: [0.9 0.7 0.6]\n",
      "Iteración 2: [0.97 0.91 0.74]\n",
      "Iteración 3: [0.991 0.945 0.782]\n",
      "Iteración 4: [0.9945 0.9555 0.789 ]\n",
      "Iteración 5: [0.99555 0.95725 0.7911 ]\n",
      "Convergencia alcanzada en 6 iteraciones\n",
      "Solución aproximada: [0.995725 0.957775 0.79145 ]\n"
     ]
    }
   ],
   "source": [
    "# Sistema b)\n",
    "A = np.array([[10, -1, 0], [-1, 10, -2], [0, -2, 10]])\n",
    "b = np.array([9, 7, 6])\n",
    "x0 = np.zeros(len(b))  # x(0) = 0\n",
    "\n",
    "print(\"Sistema b):\")\n",
    "solucion = jacobi(A, b, x0)\n",
    "print(\"Solución aproximada:\", solucion)"
   ]
  },
  {
   "cell_type": "code",
   "execution_count": 16,
   "metadata": {},
   "outputs": [
    {
     "name": "stdout",
     "output_type": "stream",
     "text": [
      "Sistema c):\n",
      "Iteración 1: [ 0.6    2.5   -1.375  2.2  ]\n",
      "Iteración 2: [-0.65   1.65  -0.4    2.475]\n",
      "Iteración 3: [-0.225     2.665    -0.859375  2.28    ]\n",
      "Iteración 4: [-0.7325    2.26875  -0.3275    2.371875]\n",
      "Iteración 5: [-0.534375    2.73525    -0.53710937  2.2655    ]\n",
      "Iteración 6: [-0.767625    2.55234375 -0.2905625   2.30742188]\n",
      "Iteración 7: [-0.67617188  2.7675875  -0.38725586  2.2581125 ]\n",
      "Iteración 8: [-0.78379375  2.68318359 -0.27347031  2.27745117]\n",
      "Iteración 9: [-0.7415918   2.78250875 -0.3180896   2.25469406]\n",
      "Iteración 10: [-0.79125438  2.74356006 -0.26558238  2.26361792]\n",
      "Iteración 11: [-0.77178003  2.78939423 -0.28617221  2.25311648]\n",
      "Iteración 12: [-0.79469712  2.77142113 -0.26194244  2.25723444]\n",
      "Iteración 13: [-0.78571057  2.79257158 -0.27144374  2.25238849]\n",
      "Iteración 14: [-0.79628579  2.78427779 -0.26026277  2.25428875]\n",
      "Iteración 15: [-0.79213889  2.79403779 -0.2646472   2.25205255]\n",
      "Iteración 16: [-0.79701889  2.79021057 -0.25948768  2.25292944]\n",
      "Iteración 17: [-0.79510528  2.79471438 -0.2615109   2.25189754]\n",
      "Iteración 18: [-0.79735719  2.79294828 -0.25913     2.25230218]\n",
      "Iteración 19: [-0.79647414  2.79502659 -0.26006363  2.251826  ]\n",
      "Iteración 20: [-0.7975133   2.79421162 -0.25896495  2.25201273]\n",
      "Convergencia alcanzada en 21 iteraciones\n",
      "Solución aproximada: [-0.79710581  2.79517067 -0.25939578  2.25179299]\n"
     ]
    }
   ],
   "source": [
    "# Sistema c)\n",
    "A = np.array([[10, 5, 0, 0], [5, 10, -4, 0], [0, -4, 8,1], [0, 0, 1, 5]])\n",
    "b = np.array([6, 25, -11, 11])\n",
    "x0 = np.zeros(len(b))  # x(0) = 0\n",
    "\n",
    "print(\"Sistema c):\")\n",
    "solucion = jacobi(A, b, x0)\n",
    "print(\"Solución aproximada:\", solucion)"
   ]
  },
  {
   "cell_type": "code",
   "execution_count": 17,
   "metadata": {},
   "outputs": [
    {
     "name": "stdout",
     "output_type": "stream",
     "text": [
      "Sistema d):\n",
      "Iteración 1: [ 1.5 -2.   1.2  1.5  1.5]\n",
      "Iteración 2: [ 1.325 -1.6    1.6    1.675  2.425]\n",
      "Iteración 3: [ 0.89375 -1.35     1.81     1.83125  2.28125]\n",
      "Iteración 4: [ 0.8146875  -1.08416667  1.935       1.8384375   2.1696875 ]\n",
      "Iteración 5: [ 0.74486979 -1.01375     1.89258333  1.91638021  2.06622396]\n",
      "Iteración 6: [ 0.76373568 -0.97863542  1.90132292  1.90592578  2.00092578]\n",
      "Iteración 7: [ 0.76909668 -0.98549566  1.87160313  1.92160579  1.98816699]\n",
      "Iteración 8: [ 0.78143139 -0.99196259  1.87141502  1.91380104  1.98024716]\n",
      "Iteración 9: [ 0.7850751  -0.99873844  1.8646296   1.91522095  1.98538479]\n",
      "Iteración 10: [ 0.78718101 -1.00174151  1.8658388   1.91274157  1.98672138]\n",
      "Iteración 11: [ 0.78729533 -1.00286688  1.86536849  1.91281957  1.98914507]\n",
      "Convergencia alcanzada en 12 iteraciones\n",
      "Solución aproximada: [ 0.78708833 -1.00303576  1.86604817  1.91244923  1.98957067]\n"
     ]
    }
   ],
   "source": [
    "# Sistema d)\n",
    "A = np.array([[4, 1, 1, 0, 1], [-1, -3, 1, 1, 0], [2, 1, 5,-1,-1], [-1, -1, -1, 4, 0], [0, 2, -1, 1, 4]])\n",
    "b = np.array([6, 6, 6, 6,6])\n",
    "x0 = np.zeros(len(b))  # x(0) = 0\n",
    "\n",
    "\n",
    "print(\"Sistema d):\")\n",
    "solucion = jacobi(A, b, x0)\n",
    "print(\"Solución aproximada:\", solucion)"
   ]
  },
  {
   "cell_type": "markdown",
   "metadata": {},
   "source": [
    "**4) Utilice el método de Gauss-Siedel para resolver los sistemas lineales en el ejercicio 1, con TOL = 10-3.**"
   ]
  },
  {
   "cell_type": "code",
   "execution_count": 36,
   "metadata": {},
   "outputs": [],
   "source": [
    "import numpy as np\n",
    "\n",
    "def gauss_seidel(A, b, x0, tol=1e-3, max_iter=100):\n",
    "    \"\"\"\n",
    "    Método de Gauss-Seidel para resolver un sistema Ax = b con tolerancia.\n",
    "\n",
    "    Parámetros:\n",
    "    A -- Matriz de coeficientes\n",
    "    b -- Vector de términos independientes\n",
    "    x0 -- Vector inicial\n",
    "    tol -- Tolerancia para el criterio de parada\n",
    "    max_iter -- Número máximo de iteraciones\n",
    "\n",
    "    Retorna:\n",
    "    x -- Aproximación de la solución\n",
    "    \"\"\"\n",
    "    n = len(A)\n",
    "    x = x0.copy()\n",
    "\n",
    "    for k in range(max_iter):\n",
    "        x_new = x.copy()\n",
    "        for i in range(n):\n",
    "            sum1 = sum(A[i][j] * x_new[j] for j in range(i))  # Elementos antes de x_i (ya actualizados)\n",
    "            sum2 = sum(A[i][j] * x[j] for j in range(i + 1, n))  # Elementos después de x_i (sin actualizar)\n",
    "            x_new[i] = (b[i] - sum1 - sum2) / A[i][i]  # Nueva aproximación de x_i\n",
    "\n",
    "        # Criterio de parada\n",
    "        error = np.linalg.norm(x_new - x, ord=np.inf)  # Norma infinito (máxima diferencia entre iteraciones)\n",
    "        print(f\"Iteración {k+1}: {x_new}, Error: {error:.5f}\")\n",
    "\n",
    "        if error < tol:\n",
    "            print(\"Convergencia alcanzada\")\n",
    "            return x_new\n",
    "\n",
    "        x = x_new\n",
    "\n",
    "    print(\"Máximo número de iteraciones alcanzado\")\n",
    "    return x\n",
    "\n",
    "\n"
   ]
  },
  {
   "cell_type": "code",
   "execution_count": 37,
   "metadata": {},
   "outputs": [
    {
     "name": "stdout",
     "output_type": "stream",
     "text": [
      "\n",
      " Sistema (a) con Gauss-Seidel y TOL = 0.001\n",
      "Iteración 1: [ 0.33333333 -0.16666667  0.5       ], Error: 0.50000\n",
      "Iteración 2: [ 0.11111111 -0.22222222  0.61904762], Error: 0.22222\n",
      "Iteración 3: [ 0.05291005 -0.23280423  0.64852608], Error: 0.05820\n",
      "Iteración 4: [ 0.03955656 -0.23595364  0.65559875], Error: 0.01335\n",
      "Iteración 5: [ 0.0361492  -0.23660752  0.65733928], Error: 0.00341\n",
      "Iteración 6: [ 0.03535107 -0.23678863  0.65775895], Error: 0.00080\n",
      "Convergencia alcanzada\n"
     ]
    },
    {
     "data": {
      "text/plain": [
       "array([ 0.03535107, -0.23678863,  0.65775895])"
      ]
     },
     "execution_count": 37,
     "metadata": {},
     "output_type": "execute_result"
    }
   ],
   "source": [
    "#Sistema (a)\n",
    "A = np.array([[3, -1, 1], [3, 6, 2], [3, 3, 7]])\n",
    "b = np.array([1, 0, 4])\n",
    "x0 = np.zeros(len(b))  # x(0) = 0\n",
    "tol = 1e-3  # Tolerancia\n",
    "\n",
    "print(\"\\n Sistema (a) con Gauss-Seidel y TOL =\", tol)\n",
    "gauss_seidel(A, b, x0, tol)"
   ]
  },
  {
   "cell_type": "code",
   "execution_count": 38,
   "metadata": {},
   "outputs": [
    {
     "name": "stdout",
     "output_type": "stream",
     "text": [
      "\n",
      " Sistema (a) con Gauss-Seidel y TOL = 0.001\n",
      "Iteración 1: [0.9   0.79  0.758], Error: 0.90000\n",
      "Iteración 2: [0.979  0.9495 0.7899], Error: 0.15950\n",
      "Iteración 3: [0.99495  0.957475 0.791495], Error: 0.01595\n",
      "Iteración 4: [0.9957475  0.95787375 0.79157475], Error: 0.00080\n",
      "Convergencia alcanzada\n"
     ]
    },
    {
     "data": {
      "text/plain": [
       "array([0.9957475 , 0.95787375, 0.79157475])"
      ]
     },
     "execution_count": 38,
     "metadata": {},
     "output_type": "execute_result"
    }
   ],
   "source": [
    "#Sistema (b)\n",
    "A = np.array([[10, -1, 0], [-1, 10, -2], [0, -2, 10]])\n",
    "b = np.array([9, 7, 6])\n",
    "x0 = np.zeros(len(b))  # x(0) = 0\n",
    "tol = 1e-3  # Tolerancia\n",
    "\n",
    "print(\"\\n Sistema (a) con Gauss-Seidel y TOL =\", tol)\n",
    "gauss_seidel(A, b, x0, tol)"
   ]
  },
  {
   "cell_type": "code",
   "execution_count": 39,
   "metadata": {},
   "outputs": [
    {
     "name": "stdout",
     "output_type": "stream",
     "text": [
      "\n",
      " Sistema (a) con Gauss-Seidel y TOL = 0.001\n",
      "Iteración 1: [ 0.6    2.2   -0.275  2.255], Error: 2.25500\n",
      "Iteración 2: [-0.5       2.64     -0.336875  2.267375], Error: 1.10000\n",
      "Iteración 3: [-0.72        2.72525    -0.29579688  2.25915938], Error: 0.22000\n",
      "Iteración 4: [-0.762625    2.76299375 -0.27589805  2.25517961], Error: 0.04262\n",
      "Iteración 5: [-0.78149687  2.78038922 -0.26670284  2.25334057], Error: 0.01887\n",
      "Iteración 6: [-0.79019461  2.78841617 -0.26245949  2.2524919 ], Error: 0.00870\n",
      "Iteración 7: [-0.79420808  2.79212025 -0.26050136  2.25210027], Error: 0.00401\n",
      "Iteración 8: [-0.79606012  2.79382952 -0.25959778  2.25191956], Error: 0.00185\n",
      "Iteración 9: [-0.79691476  2.79461827 -0.25918081  2.25183616], Error: 0.00085\n",
      "Convergencia alcanzada\n"
     ]
    },
    {
     "data": {
      "text/plain": [
       "array([-0.79691476,  2.79461827, -0.25918081,  2.25183616])"
      ]
     },
     "execution_count": 39,
     "metadata": {},
     "output_type": "execute_result"
    }
   ],
   "source": [
    "#Sistema (c)\n",
    "A = np.array([[10, 5, 0, 0], [5, 10, -4, 0], [0, -4, 8,1], [0, 0, 1, 5]])\n",
    "b = np.array([6, 25, -11, 11])\n",
    "x0 = np.zeros(len(b))  # x(0) = 0\n",
    "tol = 1e-3  # Tolerancia\n",
    "\n",
    "print(\"\\n Sistema (a) con Gauss-Seidel y TOL =\", tol)\n",
    "gauss_seidel(A, b, x0, tol)"
   ]
  },
  {
   "cell_type": "code",
   "execution_count": 40,
   "metadata": {},
   "outputs": [
    {
     "name": "stdout",
     "output_type": "stream",
     "text": [
      "\n",
      " Sistema (a) con Gauss-Seidel y TOL = 0.001\n",
      "Iteración 1: [ 1.5     -2.5      1.1      1.525    2.64375], Error: 2.64375\n",
      "Iteración 2: [ 1.1890625  -1.52135417  1.86239583  1.88252604  2.25564453], Error: 0.97865\n",
      "Iteración 3: [ 0.85082845 -1.03530219  1.89436317  1.92747236  2.0093738 ], Error: 0.48605\n",
      "Iteración 4: [ 0.7828913  -0.98701859  1.87161643  1.91687229  1.98219533], Error: 0.06794\n",
      "Iteración 5: [ 0.78330171 -0.998271    1.86614704  1.91279444  1.98747365], Error: 0.01125\n",
      "Iteración 6: [ 0.78616258 -1.00240703  1.86606999  1.91245638  1.98960692], Error: 0.00414\n",
      "Iteración 7: [ 0.78668253 -1.00271872  1.86628339  1.9125618   1.98978976], Error: 0.00052\n",
      "Convergencia alcanzada\n"
     ]
    },
    {
     "data": {
      "text/plain": [
       "array([ 0.78668253, -1.00271872,  1.86628339,  1.9125618 ,  1.98978976])"
      ]
     },
     "execution_count": 40,
     "metadata": {},
     "output_type": "execute_result"
    }
   ],
   "source": [
    "#Sistema (c)\n",
    "A = np.array([[4, 1, 1, 0, 1], [-1, -3, 1, 1, 0], [2, 1, 5,-1,-1], [-1, -1, -1, 4, 0], [0, 2, -1, 1, 4]])\n",
    "b = np.array([6, 6, 6, 6,6])\n",
    "x0 = np.zeros(len(b))  # x(0) = 0\n",
    "tol = 1e-3  # Tolerancia\n",
    "\n",
    "print(\"\\n Sistema (a) con Gauss-Seidel y TOL =\", tol)\n",
    "gauss_seidel(A, b, x0, tol)"
   ]
  },
  {
   "cell_type": "markdown",
   "metadata": {},
   "source": [
    "**5)**"
   ]
  },
  {
   "cell_type": "code",
   "execution_count": 44,
   "metadata": {},
   "outputs": [
    {
     "name": "stdout",
     "output_type": "stream",
     "text": [
      "\n",
      " Método de Jacobi (25 iteraciones):\n",
      "Iteración 1: [-0.5  2.  -2.5]\n",
      "Iteración 2: [-0.5  2.  -2.5]\n",
      "Iteración 3: [-0.5  2.  -2.5]\n",
      "Iteración 4: [-0.5  2.  -2.5]\n",
      "Iteración 5: [-0.5  2.  -2.5]\n",
      "Iteración 6: [-0.5  2.  -2.5]\n",
      "Iteración 7: [-0.5  2.  -2.5]\n",
      "Iteración 8: [-0.5  2.  -2.5]\n",
      "Iteración 9: [-0.5  2.  -2.5]\n",
      "Iteración 10: [-0.5  2.  -2.5]\n",
      "Iteración 11: [-0.5  2.  -2.5]\n",
      "Iteración 12: [-0.5  2.  -2.5]\n",
      "Iteración 13: [-0.5  2.  -2.5]\n",
      "Iteración 14: [-0.5  2.  -2.5]\n",
      "Iteración 15: [-0.5  2.  -2.5]\n",
      "Iteración 16: [-0.5  2.  -2.5]\n",
      "Iteración 17: [-0.5  2.  -2.5]\n",
      "Iteración 18: [-0.5  2.  -2.5]\n",
      "Iteración 19: [-0.5  2.  -2.5]\n",
      "Iteración 20: [-0.5  2.  -2.5]\n",
      "Iteración 21: [-0.5  2.  -2.5]\n",
      "Iteración 22: [-0.5  2.  -2.5]\n",
      "Iteración 23: [-0.5  2.  -2.5]\n",
      "Iteración 24: [-0.5  2.  -2.5]\n",
      "Iteración 25: [-0.5  2.  -2.5]\n",
      "Iteración 26: [-0.5  2.  -2.5]\n",
      "Iteración 27: [-0.5  2.  -2.5]\n",
      "\n",
      " Método de Gauss-Seidel con TOL = 10^-5:\n",
      "Iteración 1: [-0.5  2.5 -1.5], Error: 2.500000\n",
      "Iteración 2: [ 1.5   2.   -0.75], Error: 2.000000\n",
      "Iteración 3: [ 0.875  1.875 -1.125], Error: 0.625000\n",
      "Iteración 4: [ 1.      2.125  -0.9375], Error: 0.250000\n",
      "Iteración 5: [ 1.03125  1.90625 -1.03125], Error: 0.218750\n",
      "Iteración 6: [ 0.96875   2.0625   -0.984375], Error: 0.156250\n",
      "Iteración 7: [ 1.0234375  1.9609375 -1.0078125], Error: 0.101562\n",
      "Iteración 8: [ 0.984375    2.0234375  -0.99609375], Error: 0.062500\n",
      "Iteración 9: [ 1.00976562  1.98632812 -1.00195312], Error: 0.037109\n",
      "Iteración 10: [ 0.99414062  2.0078125  -0.99902344], Error: 0.021484\n",
      "Iteración 11: [ 1.00341797  1.99560547 -1.00048828], Error: 0.012207\n",
      "Iteración 12: [ 0.99804688  2.00244141 -0.99975586], Error: 0.006836\n",
      "Iteración 13: [ 1.00109863  1.99865723 -1.00012207], Error: 0.003784\n",
      "Iteración 14: [ 0.99938965  2.00073242 -0.99993896], Error: 0.002075\n",
      "Iteración 15: [ 1.00033569  1.99960327 -1.00003052], Error: 0.001129\n",
      "Iteración 16: [ 0.99981689  2.00021362 -0.99998474], Error: 0.000610\n",
      "Iteración 17: [ 1.00009918  1.99988556 -1.00000763], Error: 0.000328\n",
      "Iteración 18: [ 0.99994659  2.00006104 -0.99999619], Error: 0.000175\n",
      "Iteración 19: [ 1.00002861  1.99996758 -1.00000191], Error: 0.000093\n",
      "Iteración 20: [ 0.99998474  2.00001717 -0.99999905], Error: 0.000050\n",
      "Iteración 21: [ 1.00000811  1.99999094 -1.00000048], Error: 0.000026\n",
      "Iteración 22: [ 0.99999571  2.00000477 -0.99999976], Error: 0.000014\n",
      "Iteración 23: [ 1.00000226  1.9999975  -1.00000012], Error: 0.000007\n",
      "Convergencia alcanzada\n"
     ]
    },
    {
     "data": {
      "text/plain": [
       "array([ 1.00000226,  1.9999975 , -1.00000012])"
      ]
     },
     "execution_count": 44,
     "metadata": {},
     "output_type": "execute_result"
    }
   ],
   "source": [
    "import numpy as np\n",
    "\n",
    "def jacobi(A, b, x0, iterations=27):\n",
    "    \"\"\"Método de Jacobi para resolver Ax = b\"\"\"\n",
    "    D = np.diag(np.diag(A))  # Matriz diagonal\n",
    "    R = A - D  # Parte restante\n",
    "    D_inv = np.linalg.inv(D)  # Inversa de la diagonal\n",
    "\n",
    "    x = x0.copy()\n",
    "    for k in range(iterations):\n",
    "        x_new = np.dot(D_inv, b - np.dot(R, x))\n",
    "        print(f\"Iteración {k+1}: {x_new}\")\n",
    "\n",
    "    return x_new\n",
    "\n",
    "def gauss_seidel(A, b, x0, tol=1e-5, max_iter=100):\n",
    "    \"\"\"Método de Gauss-Seidel para resolver Ax = b con tolerancia\"\"\"\n",
    "    n = len(A)\n",
    "    x = x0.copy()\n",
    "\n",
    "    for k in range(max_iter):\n",
    "        x_new = x.copy()\n",
    "        for i in range(n):\n",
    "            sum1 = sum(A[i][j] * x_new[j] for j in range(i))\n",
    "            sum2 = sum(A[i][j] * x[j] for j in range(i + 1, n))\n",
    "            x_new[i] = (b[i] - sum1 - sum2) / A[i][i]\n",
    "\n",
    "        error = np.linalg.norm(x_new - x, ord=np.inf)\n",
    "        print(f\"Iteración {k+1}: {x_new}, Error: {error:.6f}\")\n",
    "\n",
    "        if error < tol:\n",
    "            print(\"Convergencia alcanzada\")\n",
    "            return x_new\n",
    "\n",
    "        x = x_new\n",
    "\n",
    "    print(\"Máximo número de iteraciones alcanzado\")\n",
    "    return x\n",
    "\n",
    "#Definimos el sistema\n",
    "A = np.array([[2, -1, 1], [2, 2, 2], [-1, -1, 2]])\n",
    "b = np.array([-1, 4, -5])\n",
    "x0 = np.zeros(len(b))  # x(0) = 0\n",
    "\n",
    "# 🔹 a) Método de Jacobi con 25 iteraciones\n",
    "print(\"\\n Método de Jacobi (25 iteraciones):\")\n",
    "jacobi(A, b, x0)\n",
    "\n",
    "# 🔹 b) Método de Gauss-Seidel con tolerancia 10^-5\n",
    "print(\"\\n Método de Gauss-Seidel con TOL = 10^-5:\")\n",
    "gauss_seidel(A, b, x0, tol=1e-5)\n"
   ]
  },
  {
   "cell_type": "markdown",
   "metadata": {},
   "source": [
    "**6)**"
   ]
  },
  {
   "cell_type": "code",
   "execution_count": 45,
   "metadata": {},
   "outputs": [
    {
     "name": "stdout",
     "output_type": "stream",
     "text": [
      "\n",
      " Método de Gauss-Seidel con TOL = 10^-2:\n",
      "Iteración 1: [ 0.2    -1.325   1.1375], Error: 1.325000\n",
      "Iteración 2: [ 1.3375    -0.471875   0.4265625], Error: 1.137500\n",
      "Iteración 3: [ 0.6265625  -1.00507813  0.87089844], Error: 0.710938\n",
      "Iteración 4: [ 1.07089844 -0.67182617  0.59318848], Error: 0.444336\n",
      "Iteración 5: [ 0.79318848 -0.88010864  0.7667572 ], Error: 0.277710\n",
      "Iteración 6: [ 0.9667572  -0.7499321   0.65827675], Error: 0.173569\n",
      "Iteración 7: [ 0.85827675 -0.83129244  0.72607703], Error: 0.108480\n",
      "Iteración 8: [ 0.92607703 -0.78044223  0.68370185], Error: 0.067800\n",
      "Iteración 9: [ 0.88370185 -0.81222361  0.71018634], Error: 0.042375\n",
      "Iteración 10: [ 0.91018634 -0.79236024  0.69363354], Error: 0.026484\n",
      "Iteración 11: [ 0.89363354 -0.80477485  0.70397904], Error: 0.016553\n",
      "Iteración 12: [ 0.90397904 -0.79701572  0.6975131 ], Error: 0.010346\n",
      "Iteración 13: [ 0.8975131  -0.80186517  0.70155431], Error: 0.006466\n",
      "Convergencia alcanzada\n",
      "\n",
      "Solución aproximada: [ 0.8975131  -0.80186517  0.70155431]\n"
     ]
    }
   ],
   "source": [
    "import numpy as np\n",
    "\n",
    "def gauss_seidel(A, b, x0, tol=1e-2, max_iter=300):\n",
    "    \"\"\"Método de Gauss-Seidel para resolver Ax = b\"\"\"\n",
    "    n = len(A)\n",
    "    x = x0.copy()\n",
    "\n",
    "    for k in range(max_iter):\n",
    "        x_new = x.copy()\n",
    "        for i in range(n):\n",
    "            sum1 = sum(A[i][j] * x_new[j] for j in range(i))  # Elementos ya actualizados\n",
    "            sum2 = sum(A[i][j] * x[j] for j in range(i + 1, n))  # Elementos sin actualizar\n",
    "            x_new[i] = (b[i] - sum1 - sum2) / A[i][i]\n",
    "\n",
    "        error = np.linalg.norm(x_new - x, ord=np.inf)\n",
    "        print(f\"Iteración {k+1}: {x_new}, Error: {error:.6f}\")\n",
    "\n",
    "        if error < tol:\n",
    "            print(\"Convergencia alcanzada\")\n",
    "            return x_new\n",
    "\n",
    "        x = x_new\n",
    "\n",
    "    print(\"Máximo número de iteraciones alcanzado\")\n",
    "    return x\n",
    "\n",
    "# Definimos el sistema\n",
    "A = np.array([\n",
    "    [1, 0, -1],\n",
    "    [-1/2, 1, -1/4],\n",
    "    [1, -1/2, 1]\n",
    "])\n",
    "b = np.array([0.2, -1.425, 2])\n",
    "x0 = np.zeros(len(b))  # x(0) = 0\n",
    "\n",
    "# 🔹 Ejecutamos Gauss-Seidel\n",
    "print(\"\\n Método de Gauss-Seidel con TOL = 10^-2:\")\n",
    "sol = gauss_seidel(A, b, x0, tol=1e-2, max_iter=300)\n",
    "print(f\"\\nSolución aproximada: {sol}\")\n"
   ]
  },
  {
   "cell_type": "markdown",
   "metadata": {},
   "source": [
    "**8)**"
   ]
  },
  {
   "cell_type": "code",
   "execution_count": 46,
   "metadata": {},
   "outputs": [
    {
     "name": "stdout",
     "output_type": "stream",
     "text": [
      "¿La matriz es estrictamente diagonalmente dominante? True\n",
      "Solución usando Jacobi: [82 61 61 84 60 68 56 85 68 84 62]\n",
      "Solución usando Gauss-Seidel: [82 62 63 86 61 69 58 88 70 88 66]\n"
     ]
    }
   ],
   "source": [
    "import numpy as np\n",
    "\n",
    "# Definir la matriz A y el vector b\n",
    "A = np.array([\n",
    "    [4, -1, 0, 0, -1, 0, 0, 0, 0, 0, 0],\n",
    "    [-1, 4, -1, 0, 0, 0, 0, 0, 0, 0, 0],\n",
    "    [0, -1, 4, -1, 0, 0, 0, 0, 0, 0, 0],\n",
    "    [0, 0, -1, 4, 0, -1, 0, 0, 0, 0, 0],\n",
    "    [-1, 0, 0, 0, 4, 0, -1, 0, 0, 0, 0],\n",
    "    [0, 0, 0, -1, 0, 4, 0, -1, 0, 0, 0],\n",
    "    [0, 0, 0, 0, -1, 0, 4, 0, -1, 0, 0],\n",
    "    [0, 0, 0, 0, 0, -1, 0, 4, -1, 0, 0],\n",
    "    [0, 0, 0, 0, 0, 0, 0, -1, 4, -1, 0],\n",
    "    [0, 0, 0, 0, 0, 0, 0, 0, -1, 4, -1],\n",
    "    [0, 0, 0, 0, 0, -1, 0, 0, 0, -1, 4]\n",
    "])\n",
    "\n",
    "b = np.array([220, 110, 110, 220, 110, 110, 110, 220, 110, 220, 110])\n",
    "\n",
    "# a. Verificar si la matriz es estrictamente diagonalmente dominante\n",
    "def es_diagonalmente_dominante(A):\n",
    "    for i in range(len(A)):\n",
    "        suma_fila = np.sum(np.abs(A[i])) - np.abs(A[i, i])\n",
    "        if np.abs(A[i, i]) <= suma_fila:\n",
    "            return False\n",
    "    return True\n",
    "\n",
    "print(\"¿La matriz es estrictamente diagonalmente dominante?\", es_diagonalmente_dominante(A))\n",
    "\n",
    "# b. Método de Jacobi\n",
    "def jacobi(A, b, x0, tol, max_iter=1000):\n",
    "    n = len(b)\n",
    "    x = x0.copy()\n",
    "    for k in range(max_iter):\n",
    "        x_nuevo = np.zeros_like(x)\n",
    "        for i in range(n):\n",
    "            suma = np.dot(A[i, :], x) - A[i, i] * x[i]\n",
    "            x_nuevo[i] = (b[i] - suma) / A[i, i]\n",
    "        if np.linalg.norm(x_nuevo - x) < tol:\n",
    "            return x_nuevo\n",
    "        x = x_nuevo\n",
    "    return x\n",
    "\n",
    "x0 = np.zeros_like(b)\n",
    "tol = 10 * 2\n",
    "solucion_jacobi = jacobi(A, b, x0, tol)\n",
    "print(\"Solución usando Jacobi:\", solucion_jacobi)\n",
    "\n",
    "# c. Método de Gauss-Seidel\n",
    "def gauss_seidel(A, b, x0, tol, max_iter=1000):\n",
    "    n = len(b)\n",
    "    x = x0.copy()\n",
    "    for k in range(max_iter):\n",
    "        x_nuevo = x.copy()\n",
    "        for i in range(n):\n",
    "            suma = np.dot(A[i, :], x_nuevo) - A[i, i] * x_nuevo[i]\n",
    "            x_nuevo[i] = (b[i] - suma) / A[i, i]\n",
    "        if np.linalg.norm(x_nuevo - x) < tol:\n",
    "            return x_nuevo\n",
    "        x = x_nuevo\n",
    "    return x\n",
    "\n",
    "solucion_gauss_seidel = gauss_seidel(A, b, x0, tol)\n",
    "print(\"Solución usando Gauss-Seidel:\", solucion_gauss_seidel)"
   ]
  },
  {
   "cell_type": "code",
   "execution_count": null,
   "metadata": {},
   "outputs": [],
   "source": []
  }
 ],
 "metadata": {
  "kernelspec": {
   "display_name": "Python 3",
   "language": "python",
   "name": "python3"
  },
  "language_info": {
   "codemirror_mode": {
    "name": "ipython",
    "version": 3
   },
   "file_extension": ".py",
   "mimetype": "text/x-python",
   "name": "python",
   "nbconvert_exporter": "python",
   "pygments_lexer": "ipython3",
   "version": "3.12.8"
  }
 },
 "nbformat": 4,
 "nbformat_minor": 2
}
