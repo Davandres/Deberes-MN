{
 "cells": [
  {
   "cell_type": "markdown",
   "metadata": {},
   "source": [
    "# Deber Descomposicion LU"
   ]
  },
  {
   "cell_type": "markdown",
   "metadata": {},
   "source": [
    "**1. Realice las siguientes multiplicaciones matriz-matriz:**\n"
   ]
  },
  {
   "cell_type": "code",
   "execution_count": 8,
   "metadata": {},
   "outputs": [
    {
     "name": "stdout",
     "output_type": "stream",
     "text": [
      "Resultado de la multiplicación:\n",
      "[[-4 10]\n",
      " [ 1 15]]\n"
     ]
    }
   ],
   "source": [
    "\n",
    "import numpy as np\n",
    "\n",
    "A = np.array([[2,-3],\n",
    "              [3, -1]])  \n",
    "\n",
    "B = np.array([[1, 5],\n",
    "              [2, 0]])  \n",
    "\n",
    "\n",
    "C = np.dot(A, B) # Multiplicación\n",
    "\n",
    "print(\"Resultado de la multiplicación:\")\n",
    "print(C)"
   ]
  },
  {
   "cell_type": "code",
   "execution_count": 9,
   "metadata": {},
   "outputs": [
    {
     "name": "stdout",
     "output_type": "stream",
     "text": [
      "Resultado de la multiplicación:\n",
      "[[ 11   4  -8]\n",
      " [  6  13 -12]]\n"
     ]
    }
   ],
   "source": [
    "\n",
    "A = np.array([[2,-3],\n",
    "              [3, -1]])  \n",
    "\n",
    "B = np.array([[1, 5,-4],\n",
    "              [-3, 2, 0]])  \n",
    "\n",
    "\n",
    "C = np.dot(A, B) # Multiplicación\n",
    "\n",
    "print(\"Resultado de la multiplicación:\")\n",
    "print(C)"
   ]
  },
  {
   "cell_type": "code",
   "execution_count": 10,
   "metadata": {},
   "outputs": [
    {
     "name": "stdout",
     "output_type": "stream",
     "text": [
      "Resultado de la multiplicación:\n",
      "[[ -1   5  -3]\n",
      " [  3   4 -11]\n",
      " [ -6  -7  -4]]\n"
     ]
    }
   ],
   "source": [
    "\n",
    "A = np.array([[2,-3, 1],\n",
    "              [4, 3, 0],\n",
    "              [5, 2, -4]])  \n",
    "\n",
    "B = np.array([[0, 1,-2],\n",
    "              [1, 0, -1],\n",
    "              [2, 3, -2]])  \n",
    "\n",
    "\n",
    "C = np.dot(A, B) # Multiplicación\n",
    "\n",
    "print(\"Resultado de la multiplicación:\")\n",
    "print(C)"
   ]
  },
  {
   "cell_type": "code",
   "execution_count": 11,
   "metadata": {},
   "outputs": [
    {
     "name": "stdout",
     "output_type": "stream",
     "text": [
      "Resultado de la multiplicación:\n",
      "[[ -2   1]\n",
      " [-14   7]\n",
      " [  6   1]]\n"
     ]
    }
   ],
   "source": [
    "\n",
    "A = np.array([[2, 1, 2],\n",
    "              [-2, 3, 0],\n",
    "              [2, -1, 3]])  \n",
    "\n",
    "B = np.array([[1, -2],\n",
    "              [-4, 1],\n",
    "              [0, 2]])  \n",
    "\n",
    "\n",
    "C = np.dot(A, B) # Multiplicación\n",
    "\n",
    "print(\"Resultado de la multiplicación:\")\n",
    "print(C)"
   ]
  },
  {
   "cell_type": "markdown",
   "metadata": {},
   "source": [
    "**2. Determine cuáles de las siguientes matrices son no singulares y calcule la inversa de esas matrices:**"
   ]
  },
  {
   "cell_type": "code",
   "execution_count": 16,
   "metadata": {},
   "outputs": [
    {
     "name": "stdout",
     "output_type": "stream",
     "text": [
      "La matriz A es singular y no tiene inversa.\n"
     ]
    }
   ],
   "source": [
    "import numpy as np\n",
    "from funciones_matrices import es_no_singular, calcular_inversa\n",
    "\n",
    "# Matriz\n",
    "A = np.array([[4, 2, 6],\n",
    "              [3, 0, 7],\n",
    "              [-2, -1, -3]])  \n",
    "\n",
    "# Verificar si es no singular\n",
    "if es_no_singular(A):\n",
    "    print(\"La matriz A es no singular.\")\n",
    "    \n",
    "    # Para calcular la inversa\n",
    "    inversa_A = calcular_inversa(A)\n",
    "    print(\"La inversa de A es:\")\n",
    "    print(inversa_A)\n",
    "else:\n",
    "    print(\"La matriz A es singular y no tiene inversa.\")"
   ]
  },
  {
   "cell_type": "code",
   "execution_count": 17,
   "metadata": {},
   "outputs": [
    {
     "name": "stdout",
     "output_type": "stream",
     "text": [
      "La matriz A es no singular.\n",
      "La inversa de A es:\n",
      "[[-0.25   0.25   0.25 ]\n",
      " [ 0.625 -0.125 -0.125]\n",
      " [ 0.125 -0.625  0.375]]\n"
     ]
    }
   ],
   "source": [
    "import numpy as np\n",
    "from funciones_matrices import es_no_singular, calcular_inversa\n",
    "\n",
    "# Matriz\n",
    "A = np.array([[1, 2, 0],\n",
    "              [2, 1, -1],\n",
    "              [3, 1, 1]])  \n",
    "\n",
    "# Verificar si es no singular\n",
    "if es_no_singular(A):\n",
    "    print(\"La matriz A es no singular.\")\n",
    "    \n",
    "    # Para calcular la inversa\n",
    "    inversa_A = calcular_inversa(A)\n",
    "    print(\"La inversa de A es:\")\n",
    "    print(inversa_A)\n",
    "else:\n",
    "    print(\"La matriz A es singular y no tiene inversa.\")"
   ]
  },
  {
   "cell_type": "code",
   "execution_count": 18,
   "metadata": {},
   "outputs": [
    {
     "name": "stdout",
     "output_type": "stream",
     "text": [
      "La matriz A es singular y no tiene inversa.\n"
     ]
    }
   ],
   "source": [
    "import numpy as np\n",
    "from funciones_matrices import es_no_singular, calcular_inversa\n",
    "\n",
    "# Matriz\n",
    "A = np.array([[1, 1, -1, 1],\n",
    "              [1, 2, -4, -2],\n",
    "              [2, 1, 1, 5],\n",
    "              [-1, 0, -2, -4]])  \n",
    "\n",
    "# Verificar si es no singular\n",
    "if es_no_singular(A):\n",
    "    print(\"La matriz A es no singular.\")\n",
    "    \n",
    "    # Para calcular la inversa\n",
    "    inversa_A = calcular_inversa(A)\n",
    "    print(\"La inversa de A es:\")\n",
    "    print(inversa_A)\n",
    "else:\n",
    "    print(\"La matriz A es singular y no tiene inversa.\")"
   ]
  },
  {
   "cell_type": "code",
   "execution_count": 19,
   "metadata": {},
   "outputs": [
    {
     "name": "stdout",
     "output_type": "stream",
     "text": [
      "La matriz A es no singular.\n",
      "La inversa de A es:\n",
      "[[ 0.25        0.          0.          0.        ]\n",
      " [-0.21428571  0.14285714 -0.         -0.        ]\n",
      " [ 0.10714286 -1.57142857  1.         -0.        ]\n",
      " [-0.5         1.         -1.          1.        ]]\n"
     ]
    }
   ],
   "source": [
    "import numpy as np\n",
    "from funciones_matrices import es_no_singular, calcular_inversa\n",
    "\n",
    "# Matriz\n",
    "A = np.array([[4, 0, 0, 0],\n",
    "              [6, 7, 0, 0],\n",
    "              [9, 11, 1, 0],\n",
    "              [5, 4, 1, 1]])   \n",
    "\n",
    "# Verificar si es no singular\n",
    "if es_no_singular(A):\n",
    "    print(\"La matriz A es no singular.\")\n",
    "    \n",
    "    # Para calcular la inversa\n",
    "    inversa_A = calcular_inversa(A)\n",
    "    print(\"La inversa de A es:\")\n",
    "    print(inversa_A)\n",
    "else:\n",
    "    print(\"La matriz A es singular y no tiene inversa.\")"
   ]
  },
  {
   "cell_type": "markdown",
   "metadata": {},
   "source": [
    "**3. Resuelva los sistemas lineales 4 x 4 que tienen la misma matriz de coeficientes:**"
   ]
  },
  {
   "cell_type": "code",
   "execution_count": 32,
   "metadata": {},
   "outputs": [
    {
     "name": "stdout",
     "output_type": "stream",
     "text": [
      "La solución del sistema es:\n",
      "[ 3. -6. -2. -1.]\n"
     ]
    }
   ],
   "source": [
    "import numpy as np\n",
    "\n",
    "def resolver_sistema(A, b):\n",
    "    \"\"\"\n",
    "    Resuelve un sistema de ecuaciones lineales Ax = b, donde A es una matriz 4x4 y b es un vector de tamaño 4.\n",
    "    \n",
    "    Parámetros:\n",
    "        A (numpy.ndarray): Matriz de coeficientes de tamaño 4x4.\n",
    "        b (numpy.ndarray): Vector de términos independientes de tamaño 4.\n",
    "    \n",
    "    Retorna:\n",
    "        x (numpy.ndarray): Solución del sistema de ecuaciones.\n",
    "    \"\"\"\n",
    "    # Verificar que A sea una matriz 4x4 y b sea un vector de tamaño 4\n",
    "    if A.shape != (4, 4) or b.shape != (4,):\n",
    "        raise ValueError(\"La matriz A debe ser 4x4 y el vector b debe ser de tamaño 4.\")\n",
    "    \n",
    "    # Resolver el sistema de ecuaciones\n",
    "    x = np.linalg.solve(A, b)\n",
    "    return x\n",
    "\n",
    "\n",
    "# Definir la matriz A    \n",
    "A = np.array([[1, -1, 2, -1],\n",
    "              [1, 0, -1, 1],\n",
    "              [2, 1, 3, -4],\n",
    "              [0, -1, 1, -1]])  \n",
    "\n",
    "b = np.array([6, 4, -2, 5])  # el vector b de términos independientes\n",
    "\n",
    "# Resolver el sistema de ecuaciones\n",
    "try:\n",
    "    x = resolver_sistema(A, b)\n",
    "    print(\"La solución del sistema es:\")\n",
    "    print(x)\n",
    "except ValueError as e:\n",
    "    print(e)"
   ]
  },
  {
   "cell_type": "code",
   "execution_count": 33,
   "metadata": {},
   "outputs": [
    {
     "name": "stdout",
     "output_type": "stream",
     "text": [
      "La solución del sistema es:\n",
      "[1. 1. 1. 1.]\n"
     ]
    }
   ],
   "source": [
    "# Definir la matriz A (4x4) y el vector b (4)\n",
    "A = np.array([[1, -1, 2, -1],\n",
    "              [1, 0, -1, 1],\n",
    "              [2, 1, 3, -4],\n",
    "              [0, -1, 1, -1]]) \n",
    "\n",
    "b = np.array([1, 1, 2, -1])  # Vector de términos independientes\n",
    "\n",
    "# Resolver el sistema de ecuaciones\n",
    "try:\n",
    "    x = resolver_sistema(A, b)\n",
    "    print(\"La solución del sistema es:\")\n",
    "    print(x)\n",
    "except ValueError as e:\n",
    "    print(e)"
   ]
  },
  {
   "cell_type": "markdown",
   "metadata": {},
   "source": [
    "**4. Encuentre los valores de A que hacen que la siguiente matriz sea singular.**"
   ]
  },
  {
   "cell_type": "code",
   "execution_count": 34,
   "metadata": {},
   "outputs": [
    {
     "name": "stdout",
     "output_type": "stream",
     "text": [
      "Determinante para alpha = 2: 0.0\n",
      "Determinante para alpha = -1.5: 0.0\n"
     ]
    }
   ],
   "source": [
    "import numpy as np\n",
    "\n",
    "# Definir la matriz A en función de alpha\n",
    "def matriz_A(alpha):\n",
    "    return np.array([[1, -1, alpha],\n",
    "                     [2, 2, 1],\n",
    "                     [0, alpha, -3/2]])\n",
    "\n",
    "# Calcular el determinante de A\n",
    "def determinante_A(alpha):\n",
    "    return np.linalg.det(matriz_A(alpha))\n",
    "\n",
    "# Valores de alpha que hacen que A sea singular\n",
    "alpha_1 = 2\n",
    "alpha_2 = -3/2\n",
    "\n",
    "# Verificar que el determinante es cero para estos valores\n",
    "print(f\"Determinante para alpha = {alpha_1}: {determinante_A(alpha_1)}\")\n",
    "print(f\"Determinante para alpha = {alpha_2}: {determinante_A(alpha_2)}\")"
   ]
  },
  {
   "cell_type": "markdown",
   "metadata": {},
   "source": [
    "**5.- Resuelva los siguientes sistemas lineales:**\n",
    "\n",
    "**a)**"
   ]
  },
  {
   "cell_type": "code",
   "execution_count": 41,
   "metadata": {},
   "outputs": [
    {
     "name": "stdout",
     "output_type": "stream",
     "text": [
      "La Matriz C es:\n",
      "[[ 2  3 -1]\n",
      " [ 4  4 -1]\n",
      " [-2 -3  4]]\n",
      "Solución del sistema es:\n",
      "[-3.  3.  1.]\n"
     ]
    }
   ],
   "source": [
    "import numpy as np\n",
    "\n",
    "A = np.array([[1, 0, 0],\n",
    "              [2, 1, 0],\n",
    "              [-1, 0, 1]])  \n",
    "\n",
    "B = np.array([[2, 3, -1],\n",
    "              [0, -2, 1],\n",
    "              [0, 0, 3]])  \n",
    "\n",
    "\n",
    "C = np.dot(A, B)\n",
    "print('La Matriz C es:')\n",
    "print(C)\n",
    "\n",
    "b = np.array([2, -1, 1])\n",
    "\n",
    "x = np.linalg.solve(C, b)\n",
    "print(\"Solución del sistema es:\")\n",
    "print(x)"
   ]
  },
  {
   "cell_type": "markdown",
   "metadata": {},
   "source": [
    "**b)**"
   ]
  },
  {
   "cell_type": "code",
   "execution_count": 43,
   "metadata": {},
   "outputs": [
    {
     "name": "stdout",
     "output_type": "stream",
     "text": [
      "La Matriz C es:\n",
      "[[ 2  2  2]\n",
      " [-1  0  1]\n",
      " [ 3  5  6]]\n",
      "Solución del sistema es:\n",
      "[ 0.5 -4.5  3.5]\n"
     ]
    }
   ],
   "source": [
    "import numpy as np\n",
    "\n",
    "A = np.array([[2, 0, 0],\n",
    "              [-1, 1, 0],\n",
    "              [3, 2, -1]])  \n",
    "\n",
    "B = np.array([[1, 1, 1],\n",
    "              [0, 1, 2],\n",
    "              [0, 0, 1]])  \n",
    "\n",
    "\n",
    "C = np.dot(A, B)\n",
    "print('La Matriz C es:')\n",
    "print(C)\n",
    "\n",
    "b = np.array([-1, 3, 0])\n",
    "\n",
    "x = np.linalg.solve(C, b)\n",
    "print(\"Solución del sistema es:\")\n",
    "print(x)"
   ]
  },
  {
   "cell_type": "markdown",
   "metadata": {},
   "source": [
    "**6. Factorice las siguientes matrices en la descomposición LU mediante el algoritmo de factorización LU\n",
    "con lii = 1 para todas las i.**\n",
    "\n",
    "**a)**"
   ]
  },
  {
   "cell_type": "code",
   "execution_count": 60,
   "metadata": {},
   "outputs": [
    {
     "name": "stdout",
     "output_type": "stream",
     "text": [
      "Matriz A:\n",
      "L:\n",
      "[[ 1.          0.          0.        ]\n",
      " [ 0.66666667  1.          0.        ]\n",
      " [ 1.         -0.          1.        ]]\n",
      "U:\n",
      "[[ 3.  3.  9.]\n",
      " [ 0. -3. -5.]\n",
      " [ 0.  0. -4.]]\n"
     ]
    }
   ],
   "source": [
    "import numpy as np\n",
    "from scipy.linalg import lu\n",
    "\n",
    "# Definir las matrices\n",
    "A_a = np.array([[2, -1, 1],\n",
    "                [3, 3, 9],\n",
    "                [3, 3, 5]])\n",
    "\n",
    "\n",
    "# Función para factorización LU\n",
    "def factorizacion_lu(A):\n",
    "    P, L, U = lu(A)\n",
    "    return P, L, U\n",
    "\n",
    "# Aplicar la factorización LU a cada matriz\n",
    "P_a, L_a, U_a = factorizacion_lu(A_a)\n",
    "\n",
    "\n",
    "print(\"Matriz A:\")\n",
    "print(\"L:\")\n",
    "print(L_a)\n",
    "print(\"U:\")\n",
    "print(U_a)\n"
   ]
  },
  {
   "cell_type": "markdown",
   "metadata": {},
   "source": [
    "**b)**"
   ]
  },
  {
   "cell_type": "code",
   "execution_count": 57,
   "metadata": {},
   "outputs": [
    {
     "name": "stdout",
     "output_type": "stream",
     "text": [
      "\n",
      "Matriz A_b:\n",
      "L:\n",
      "[[ 1.          0.          0.        ]\n",
      " [-0.68685567  1.          0.        ]\n",
      " [ 0.32603093 -0.21424728  1.        ]]\n",
      "U:\n",
      "[[ 3.104      -7.013       0.014     ]\n",
      " [ 0.         -0.72091881 -7.00338402]\n",
      " [ 0.          0.          1.59897957]]\n"
     ]
    }
   ],
   "source": [
    "import numpy as np\n",
    "from scipy.linalg import lu\n",
    "\n",
    "\n",
    "B = np.array([[1.012, -2.132, 3.104],\n",
    "                [-2.132, 4.096, -7.013],\n",
    "                [3.104, -7.013, 0.014]])\n",
    "\n",
    "\n",
    "# Función para factorización LU\n",
    "def factorizacion_lu(A):\n",
    "    P, L, U = lu(A)\n",
    "    return P, L, U\n",
    "\n",
    "# Aplicar la factorización LU \n",
    "P_b, L_b, U_b = factorizacion_lu(B)\n",
    "\n",
    "\n",
    "print(\"\\nMatriz A_b:\")\n",
    "print(\"L:\")\n",
    "print(L_b)\n",
    "print(\"U:\")\n",
    "print(U_b)"
   ]
  },
  {
   "cell_type": "markdown",
   "metadata": {},
   "source": [
    "**c)**"
   ]
  },
  {
   "cell_type": "code",
   "execution_count": 58,
   "metadata": {},
   "outputs": [
    {
     "name": "stdout",
     "output_type": "stream",
     "text": [
      "\n",
      "Matriz C:\n",
      "L:\n",
      "[[ 1.          0.          0.          0.        ]\n",
      " [ 0.          1.          0.          0.        ]\n",
      " [ 1.          0.66666667  1.          0.        ]\n",
      " [ 0.5        -0.5         0.375       1.        ]]\n",
      "U:\n",
      "[[ 2.          0.          0.          0.        ]\n",
      " [ 0.         -3.          0.5         0.        ]\n",
      " [ 0.          0.          0.66666667  1.        ]\n",
      " [ 0.          0.          0.         -0.375     ]]\n"
     ]
    }
   ],
   "source": [
    "import numpy as np\n",
    "from scipy.linalg import lu\n",
    "\n",
    "# Matriz\n",
    "C = np.array([[2, 0, 0, 0],\n",
    "                [1, 1.5, 0, 0],\n",
    "                [0, -3, 0.5, 0],\n",
    "                [2, -2, 1, 1]])\n",
    "\n",
    "\n",
    "# Función para factorización LU\n",
    "def factorizacion_lu(A):\n",
    "    P, L, U = lu(A)\n",
    "    return P, L, U\n",
    "\n",
    "# Aplicar la factorización LU \n",
    "P_c, L_c, U_c = factorizacion_lu(C)\n",
    "\n",
    "\n",
    "print(\"\\nMatriz C:\")\n",
    "print(\"L:\")\n",
    "print(L_c)\n",
    "print(\"U:\")\n",
    "print(U_c)\n"
   ]
  },
  {
   "cell_type": "markdown",
   "metadata": {},
   "source": [
    "**d)**"
   ]
  },
  {
   "cell_type": "code",
   "execution_count": 59,
   "metadata": {},
   "outputs": [
    {
     "name": "stdout",
     "output_type": "stream",
     "text": [
      "\n",
      "Matriz D:\n",
      "L:\n",
      "[[ 1.          0.          0.          0.        ]\n",
      " [-0.66790072  1.          0.          0.        ]\n",
      " [ 0.36118536  0.14002434  1.          0.        ]\n",
      " [-0.16601644 -0.37924771 -0.5112737   1.        ]]\n",
      "U:\n",
      "[[ 6.0235      7.          0.         -4.1561    ]\n",
      " [ 0.         10.67530506  0.         -1.57856219]\n",
      " [ 0.          0.         -2.1732      6.91885959]\n",
      " [ 0.          0.          0.          2.24878393]]\n"
     ]
    }
   ],
   "source": [
    "import numpy as np\n",
    "from scipy.linalg import lu\n",
    "\n",
    "D = np.array([[2.1756, 4.0231, -2.1732, 5.1967],\n",
    "                [-4.0231, 6.0000, 0, 1.1973],\n",
    "                [-1.0000, -5.2107, 1.1111, 0],\n",
    "                [6.0235, 7.0000, 0, -4.1561]])\n",
    "\n",
    "# Función para factorización LU\n",
    "def factorizacion_lu(A):\n",
    "    P, L, U = lu(A)\n",
    "    return P, L, U\n",
    "\n",
    "# Aplicar la factorización LU \n",
    "P_d, L_d, U_d = factorizacion_lu(D)\n",
    "\n",
    "\n",
    "print(\"\\nMatriz D:\")\n",
    "print(\"L:\")\n",
    "print(L_d)\n",
    "print(\"U:\")\n",
    "print(U_d)"
   ]
  },
  {
   "cell_type": "markdown",
   "metadata": {},
   "source": [
    "**7) Modifique el algoritmo de eliminación gaussiana de tal forma que se pueda utilizar para resolver un sistema\n",
    "lineal usando la descomposición LU y, a continuación, resuelva los siguientes sistemas lineales.**"
   ]
  },
  {
   "cell_type": "code",
   "execution_count": 69,
   "metadata": {},
   "outputs": [
    {
     "name": "stdout",
     "output_type": "stream",
     "text": [
      "\n",
      "L:\n",
      "[[1.  0.  0. ]\n",
      " [1.5 1.  0. ]\n",
      " [1.5 0.  1. ]]\n",
      "U:\n",
      "[[ 2 -1  1]\n",
      " [ 0  4  7]\n",
      " [ 0  4  3]]\n",
      "\n",
      "L:\n",
      "[[1.  0.  0. ]\n",
      " [1.5 1.  0. ]\n",
      " [1.5 1.  1. ]]\n",
      "U:\n",
      "[[ 2 -1  1]\n",
      " [ 0  4  7]\n",
      " [ 0  0 -4]]\n",
      "Solución del sistema A:\n",
      "[ 1.1875 -0.125  -0.5   ]\n"
     ]
    }
   ],
   "source": [
    "import numpy as np\n",
    "\n",
    "def eliminacion_gaussiana_lu(A: np.ndarray):\n",
    "    \"\"\"Realiza la descomposición LU de una matriz A usando eliminación gaussiana.\n",
    "\n",
    "    ## Parameters\n",
    "\n",
    "    ``A``: matriz de coeficientes del sistema de ecuaciones lineales. Debe ser de tamaño n-by-n.\n",
    "\n",
    "    ## Return\n",
    "\n",
    "    ``L``: matriz triangular inferior con unos en la diagonal.\n",
    "    ``U``: matriz triangular superior.\n",
    "    \"\"\"\n",
    "    if not isinstance(A, np.ndarray):\n",
    "        print(\"Convirtiendo A a numpy array.\")\n",
    "        A = np.array(A)\n",
    "    assert A.shape[0] == A.shape[1], \"La matriz A debe ser cuadrada.\"\n",
    "    n = A.shape[0]\n",
    "\n",
    "    L = np.eye(n)  # Matriz identidad (L tendrá unos en la diagonal)\n",
    "    U = A.copy()   # Copia de A para convertirse en U\n",
    "\n",
    "    for i in range(n - 1):  # loop por columna\n",
    "        # --- encontrar pivote\n",
    "        p = None  # default, first element\n",
    "        for pi in range(i, n):\n",
    "            if U[pi, i] == 0:\n",
    "                # must be nonzero\n",
    "                continue\n",
    "\n",
    "            if p is None:\n",
    "                # first nonzero element\n",
    "                p = pi\n",
    "                continue\n",
    "\n",
    "            if abs(U[pi, i]) < abs(U[p, i]):\n",
    "                p = pi\n",
    "\n",
    "        if p is None:\n",
    "            # no pivot found.\n",
    "            raise ValueError(\"No existe solución única.\")\n",
    "\n",
    "        if p != i:\n",
    "            # swap rows\n",
    "            print(f\"Intercambiando filas {i} y {p}\")\n",
    "            _aux = U[i, :].copy()\n",
    "            U[i, :] = U[p, :].copy()\n",
    "            U[p, :] = _aux\n",
    "\n",
    "            # También intercambiar las filas correspondientes en L\n",
    "            _aux = L[i, :i].copy()\n",
    "            L[i, :i] = L[p, :i].copy()\n",
    "            L[p, :i] = _aux\n",
    "\n",
    "        # --- Eliminación: loop por fila\n",
    "        for j in range(i + 1, n):\n",
    "            m = U[j, i] / U[i, i]\n",
    "            L[j, i] = m  # Guardar el multiplicador en L\n",
    "            U[j, i:] = U[j, i:] - m * U[i, i:]\n",
    "\n",
    "        print(f\"\\nL:\\n{L}\\nU:\\n{U}\")\n",
    "\n",
    "    return L, U\n",
    "\n",
    "def sustitucion_adelante(L, b):\n",
    "    \"\"\"Resuelve el sistema Ly = b usando sustitución hacia adelante.\n",
    "\n",
    "    ## Parameters\n",
    "\n",
    "    ``L``: matriz triangular inferior con unos en la diagonal.\n",
    "    ``b``: vector de términos independientes.\n",
    "\n",
    "    ## Return\n",
    "\n",
    "    ``y``: vector solución.\n",
    "    \"\"\"\n",
    "    n = L.shape[0]\n",
    "    y = np.zeros(n)\n",
    "\n",
    "    for i in range(n):\n",
    "        suma = np.dot(L[i, :i], y[:i])\n",
    "        y[i] = (b[i] - suma) / L[i, i]\n",
    "\n",
    "    return y\n",
    "\n",
    "def sustitucion_atras(U, y):\n",
    "    \"\"\"Resuelve el sistema Ux = y usando sustitución hacia atrás.\n",
    "\n",
    "    ## Parameters\n",
    "\n",
    "    ``U``: matriz triangular superior.\n",
    "    ``y``: vector solución de Ly = b.\n",
    "\n",
    "    ## Return\n",
    "\n",
    "    ``x``: vector solución.\n",
    "    \"\"\"\n",
    "    n = U.shape[0]\n",
    "    x = np.zeros(n)\n",
    "\n",
    "    for i in range(n - 1, -1, -1):\n",
    "        suma = np.dot(U[i, i + 1:], x[i + 1:])\n",
    "        x[i] = (y[i] - suma) / U[i, i]\n",
    "\n",
    "    return x\n",
    "\n",
    "def resolver_sistema_lu(A, b):\n",
    "    \"\"\"Resuelve el sistema Ax = b usando la descomposición LU.\n",
    "\n",
    "    ## Parameters\n",
    "\n",
    "    ``A``: matriz de coeficientes del sistema de ecuaciones lineales.\n",
    "    ``b``: vector de términos independientes.\n",
    "\n",
    "    ## Return\n",
    "\n",
    "    ``x``: vector solución.\n",
    "    \"\"\"\n",
    "    L, U = eliminacion_gaussiana_lu(A)\n",
    "    y = sustitucion_adelante(L, b)\n",
    "    x = sustitucion_atras(U, y)\n",
    "    return x\n",
    "\n",
    "# Ejemplo de uso\n",
    "A = np.array([[2, -1, 1],\n",
    "              [3, 3, 9],\n",
    "              [3, 3, 5]])\n",
    "\n",
    "b = np.array([2, -1, 1])\n",
    "\n",
    "x = resolver_sistema_lu(A, b)\n",
    "print(\"Solución del sistema A:\")\n",
    "print(x)"
   ]
  },
  {
   "cell_type": "code",
   "execution_count": 68,
   "metadata": {},
   "outputs": [
    {
     "name": "stdout",
     "output_type": "stream",
     "text": [
      "\n",
      "L:\n",
      "[[ 1.          0.          0.        ]\n",
      " [-2.10671937  1.          0.        ]\n",
      " [ 3.06719368  0.          1.        ]]\n",
      "U:\n",
      "[[ 1.012      -2.132       3.104     ]\n",
      " [ 0.         -0.39552569 -0.47374308]\n",
      " [ 0.         -0.47374308 -9.50656917]]\n",
      "\n",
      "L:\n",
      "[[ 1.          0.          0.        ]\n",
      " [-2.10671937  1.          0.        ]\n",
      " [ 3.06719368  1.19775553  1.        ]]\n",
      "U:\n",
      "[[ 1.012      -2.132       3.104     ]\n",
      " [ 0.         -0.39552569 -0.47374308]\n",
      " [ 0.          0.         -8.93914077]]\n",
      "Solución del sistema B:\n",
      "[1. 1. 1.]\n"
     ]
    }
   ],
   "source": [
    "B = np.array([[1.012, -2.132, 3.104],\n",
    "                [-2.132, 4.096, -7.013],\n",
    "                [3.104, -7.013, 0.014]])\n",
    "\n",
    "b = np.array([1.984, -5.049, -3.895])\n",
    "\n",
    "x = resolver_sistema_lu(B, b)\n",
    "print(\"Solución del sistema B:\")\n",
    "print(x)"
   ]
  },
  {
   "cell_type": "code",
   "execution_count": 67,
   "metadata": {},
   "outputs": [
    {
     "name": "stdout",
     "output_type": "stream",
     "text": [
      "\n",
      "L:\n",
      "[[ 1.          0.          0.        ]\n",
      " [-2.10671937  1.          0.        ]\n",
      " [ 3.06719368  0.          1.        ]]\n",
      "U:\n",
      "[[ 1.012      -2.132       3.104     ]\n",
      " [ 0.         -0.39552569 -0.47374308]\n",
      " [ 0.         -0.47374308 -9.50656917]]\n",
      "\n",
      "L:\n",
      "[[ 1.          0.          0.        ]\n",
      " [-2.10671937  1.          0.        ]\n",
      " [ 3.06719368  1.19775553  1.        ]]\n",
      "U:\n",
      "[[ 1.012      -2.132       3.104     ]\n",
      " [ 0.         -0.39552569 -0.47374308]\n",
      " [ 0.          0.         -8.93914077]]\n",
      "Solución del sistema C:\n",
      "[-72.6552259  -31.21014922   3.2174776 ]\n"
     ]
    }
   ],
   "source": [
    "C = np.array([[2, 0, 0, 0],\n",
    "                [1, 1.5, 0, 0],\n",
    "                [0, -3, 0.5, 0],\n",
    "                [2, -2, 1, 1]])\n",
    "\n",
    "b = np.array([3, 4.5, -6.6, 0.8])\n",
    "\n",
    "x = resolver_sistema_lu(B, b)\n",
    "print(\"Solución del sistema C:\")\n",
    "print(x)"
   ]
  },
  {
   "cell_type": "code",
   "execution_count": 66,
   "metadata": {},
   "outputs": [
    {
     "name": "stdout",
     "output_type": "stream",
     "text": [
      "\n",
      "L:\n",
      "[[ 1.          0.          0.        ]\n",
      " [-2.10671937  1.          0.        ]\n",
      " [ 3.06719368  0.          1.        ]]\n",
      "U:\n",
      "[[ 1.012      -2.132       3.104     ]\n",
      " [ 0.         -0.39552569 -0.47374308]\n",
      " [ 0.         -0.47374308 -9.50656917]]\n",
      "\n",
      "L:\n",
      "[[ 1.          0.          0.        ]\n",
      " [-2.10671937  1.          0.        ]\n",
      " [ 3.06719368  1.19775553  1.        ]]\n",
      "U:\n",
      "[[ 1.012      -2.132       3.104     ]\n",
      " [ 0.         -0.39552569 -0.47374308]\n",
      " [ 0.          0.         -8.93914077]]\n",
      "Solución del sistema D:\n",
      "[-195.50238733  -86.93944465    9.53463917]\n"
     ]
    }
   ],
   "source": [
    "D = np.array([[2.1756, 4.0231, -2.1732, 5.1967],\n",
    "                [-4.0231, 6.0000, 0, 1.1973],\n",
    "                [-1.0000, -5.2107, 1.1111, 0],\n",
    "                [6.0235, 7.0000, 0, -4.1561]])\n",
    "\n",
    "b = np.array([17.102, -6.1593, 3.0004, 0])\n",
    "\n",
    "x = resolver_sistema_lu(B, b)\n",
    "print(\"Solución del sistema D:\")\n",
    "print(x)"
   ]
  },
  {
   "cell_type": "code",
   "execution_count": null,
   "metadata": {},
   "outputs": [],
   "source": []
  }
 ],
 "metadata": {
  "kernelspec": {
   "display_name": "Python 3",
   "language": "python",
   "name": "python3"
  },
  "language_info": {
   "codemirror_mode": {
    "name": "ipython",
    "version": 3
   },
   "file_extension": ".py",
   "mimetype": "text/x-python",
   "name": "python",
   "nbconvert_exporter": "python",
   "pygments_lexer": "ipython3",
   "version": "3.12.8"
  }
 },
 "nbformat": 4,
 "nbformat_minor": 2
}
